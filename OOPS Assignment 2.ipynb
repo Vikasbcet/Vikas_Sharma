{
 "cells": [
  {
   "cell_type": "code",
   "execution_count": 1,
   "id": "0b793feb-a479-4426-ab5c-54b85e63164c",
   "metadata": {},
   "outputs": [
    {
     "data": {
      "text/plain": [
       "'\\nconstructor is used to create the variables and pass through the program. It invokes automatically.\\nWe can use those variable in the class anywhere by giving the reference. \\nIt helpful to hod the data for the function for iteration.\\n\\n'"
      ]
     },
     "execution_count": 1,
     "metadata": {},
     "output_type": "execute_result"
    }
   ],
   "source": [
    "#1. What is a constructor in Python? Explain its purpose and usage.\n",
    "\n",
    "'''\n",
    "A special method that is called when an object is created. \n",
    "constructor is used to create the variables and pass through the program. It invokes automatically.\n",
    "We can use those variable in the class anywhere by giving the reference. \n",
    "It helpful to hod the data for the function for iteration.\n",
    "\n",
    "'''"
   ]
  },
  {
   "cell_type": "code",
   "execution_count": 2,
   "id": "8feeeb45-e5b2-4590-aaef-8bd8ae0d4ed7",
   "metadata": {},
   "outputs": [
    {
     "data": {
      "text/plain": [
       "'\\nParameterized Constructor: A parameterized constructor is a constructor that takes one or more arguments. It is used to \\n                           create an object with custom values for its attributes. \\nNon-Parameterized Constructor: A non-parameterized constructor is a constructor that does not take any arguments\\n'"
      ]
     },
     "execution_count": 2,
     "metadata": {},
     "output_type": "execute_result"
    }
   ],
   "source": [
    "#2. Differentiate between a parameterless constructor and a parameterized constructor in Python.\n",
    "\n",
    "'''\n",
    "Parameterized Constructor: A parameterized constructor is a constructor that takes one or more arguments. It is used to \n",
    "                           create an object with custom values for its attributes. \n",
    "Non-Parameterized Constructor: A non-parameterized constructor is a constructor that does not take any arguments\n",
    "'''"
   ]
  },
  {
   "cell_type": "code",
   "execution_count": 16,
   "id": "cfaf8eca-3645-4bcd-9867-4eeb854bcce2",
   "metadata": {},
   "outputs": [],
   "source": [
    "#3. How do you define a constructor in a Python class? Provide an example.\n",
    "\n",
    "''' Constructor is defined by keyword __init__ in python.\n",
    "'''\n",
    "#Example of constructor.\n",
    "\n",
    "class abc:\n",
    "    \n",
    "   # define a constructor with 2 values. \n",
    "    def __init__ (self):\n",
    "        self.a =10\n",
    "        self.b =20\n",
    "    \n",
    "    def add(self):\n",
    "        c =  self.a + self.b\n",
    "        return c\n",
    "    \n",
    "    \n",
    "\n"
   ]
  },
  {
   "cell_type": "code",
   "execution_count": 17,
   "id": "86dd7718-101a-4e42-9058-d3fa59c87462",
   "metadata": {},
   "outputs": [],
   "source": [
    "add_obj = abc()"
   ]
  },
  {
   "cell_type": "code",
   "execution_count": 18,
   "id": "8d04794b-6602-446e-b7f0-374d584f3551",
   "metadata": {},
   "outputs": [
    {
     "data": {
      "text/plain": [
       "30"
      ]
     },
     "execution_count": 18,
     "metadata": {},
     "output_type": "execute_result"
    }
   ],
   "source": [
    "add_obj.add()\n"
   ]
  },
  {
   "cell_type": "code",
   "execution_count": 19,
   "id": "389f83a1-63d4-4f2a-9899-4f237f9e80f3",
   "metadata": {},
   "outputs": [
    {
     "data": {
      "text/plain": [
       "\"\\nThe __init__ method is the Python equivalent of the C++ constructor in an object-oriented approach. \\nThe __init__ function is called every time an object is created from a class. The __init__ method \\nlets the class initialize the object's attributes and serves no other purpose. It is only used within classes.\\n\""
      ]
     },
     "execution_count": 19,
     "metadata": {},
     "output_type": "execute_result"
    }
   ],
   "source": [
    "#4. Explain the `__init__` method in Python and its role in constructors.\n",
    "\n",
    "'''\n",
    "The __init__ method is the Python equivalent of the C++ constructor in an object-oriented approach. \n",
    "The __init__ function is called every time an object is created from a class. The __init__ method \n",
    "lets the class initialize the object's attributes and serves no other purpose. It is only used within classes.\n",
    "'''"
   ]
  },
  {
   "cell_type": "code",
   "execution_count": 45,
   "id": "0ee674fd-de24-4fef-804a-a2fb139d7aa4",
   "metadata": {},
   "outputs": [],
   "source": [
    "#5. In a class named `Person`, create a constructor that initializes the `name` and `age` attributes. \n",
    "#   Provide an example of creating an object of this class.\n",
    "\n",
    "class person:\n",
    "    \n",
    "    def __init__ (self,name,age):\n",
    "        self.name = name\n",
    "        self.age  = age\n",
    "    \n",
    "    def abc(self):\n",
    "        return (self.name , self.age)\n",
    "    "
   ]
  },
  {
   "cell_type": "code",
   "execution_count": 46,
   "id": "f8e73a0f-a7df-4a06-918d-e53d96acf32a",
   "metadata": {},
   "outputs": [],
   "source": [
    "person_obj = person('vikas' , 33)"
   ]
  },
  {
   "cell_type": "code",
   "execution_count": 47,
   "id": "5d24f4a4-2252-4bb1-bc11-b549baa29724",
   "metadata": {},
   "outputs": [
    {
     "data": {
      "text/plain": [
       "('vikas', 33)"
      ]
     },
     "execution_count": 47,
     "metadata": {},
     "output_type": "execute_result"
    }
   ],
   "source": [
    "person_obj.abc()"
   ]
  },
  {
   "cell_type": "code",
   "execution_count": 48,
   "id": "55679ded-26a9-4496-9494-b7dc59038dff",
   "metadata": {},
   "outputs": [],
   "source": [
    "#6. How can you call a constructor explicitly in Python? Give an example.\n",
    "\n",
    "'''\n",
    "For a class, it allows only one constructor.\n",
    "The constructor name must be __init__.\n",
    "A constructor must be defined with an instance attribute (nothing but specifying the self keyword as a first parameter).\n",
    "It cannot return any value, except None.\n",
    "'''\n",
    "\n",
    "class const:\n",
    "    \n",
    "    def __init__(self):\n",
    "        print(\"this is explicit constructor\")"
   ]
  },
  {
   "cell_type": "code",
   "execution_count": 49,
   "id": "fec11f79-3ef1-4e55-b554-20bdaf4bb232",
   "metadata": {},
   "outputs": [
    {
     "name": "stdout",
     "output_type": "stream",
     "text": [
      "this is explicit constructor\n"
     ]
    }
   ],
   "source": [
    "const_obj = const()"
   ]
  },
  {
   "cell_type": "code",
   "execution_count": 50,
   "id": "b1c17c7d-e8ed-4e52-9cd8-ce5e2e07dba2",
   "metadata": {},
   "outputs": [],
   "source": [
    "#7. What is the significance of the `self` parameter in Python constructors? Explain with an example.\n",
    "\n",
    "'''\n",
    "Python uses the self parameter to refer to instance attributes and methods of the class.\n",
    "'''\n",
    "\n",
    "class abc:\n",
    "    \n",
    "    def add(self,a,b):\n",
    "        c = a+b\n",
    "        return c\n",
    "    \n",
    "    def sub(self,a,b):\n",
    "        c = a - b\n",
    "        return c\n",
    "    "
   ]
  },
  {
   "cell_type": "code",
   "execution_count": 51,
   "id": "bc510ede-3137-4aea-accf-9d5e9c5d53dc",
   "metadata": {},
   "outputs": [],
   "source": [
    "add_obj = abc()"
   ]
  },
  {
   "cell_type": "code",
   "execution_count": 52,
   "id": "1b1f7663-822f-46fa-98a9-3df8f06b4574",
   "metadata": {},
   "outputs": [
    {
     "data": {
      "text/plain": [
       "7"
      ]
     },
     "execution_count": 52,
     "metadata": {},
     "output_type": "execute_result"
    }
   ],
   "source": [
    "add_obj.add(3,4)"
   ]
  },
  {
   "cell_type": "code",
   "execution_count": 53,
   "id": "8fb754cc-49d2-4d68-b25d-ca2bdbe43799",
   "metadata": {},
   "outputs": [
    {
     "data": {
      "text/plain": [
       "1"
      ]
     },
     "execution_count": 53,
     "metadata": {},
     "output_type": "execute_result"
    }
   ],
   "source": [
    "add_obj.sub(4,3)"
   ]
  },
  {
   "cell_type": "code",
   "execution_count": 54,
   "id": "b1c10ecf-b9f9-454b-99de-81af6f0ea297",
   "metadata": {},
   "outputs": [
    {
     "name": "stdout",
     "output_type": "stream",
     "text": [
      "John\n",
      "30\n"
     ]
    }
   ],
   "source": [
    "#8. Discuss the concept of default constructors in Python. When are they used?\n",
    "\n",
    "'''\n",
    "Default Constructor: A default constructor is a constructor that takes no arguments. \n",
    "It is used to create an object with default values for its attributes.\n",
    "\n",
    "Default constructors are useful when you want to create an object with a predefined set of attributes, \n",
    "but you don’t want to specify the values of those attributes when the object is created.\n",
    "'''\n",
    "\n",
    "class Person:\n",
    "    def __init__(self):\n",
    "        self.name = \"John\"\n",
    "        self.age = 30\n",
    "\n",
    "person = Person()\n",
    "print(person.name)\n",
    "print(person.age)\n"
   ]
  },
  {
   "cell_type": "code",
   "execution_count": 81,
   "id": "07c9149c-9fda-4e7f-9c8e-ed3ff38fa356",
   "metadata": {},
   "outputs": [],
   "source": [
    "#9. Create a Python class called `Rectangle` with a constructor that initializes the `width` and `height` attributes. \n",
    "#   Provide a method to calculate the area of the rectangle.\n",
    "\n",
    "class rectangle:\n",
    "    \n",
    "    def __init__(self,width,hight):\n",
    "        self.width = width\n",
    "        self.hight = hight\n",
    "    \n",
    "    def area_rectangle(self):\n",
    "        area = self.width * self.hight\n",
    "        \n",
    "        return area\n",
    "    \n",
    "    "
   ]
  },
  {
   "cell_type": "code",
   "execution_count": 82,
   "id": "3376aa1f-1261-4a4c-a7df-3dae3cbcab91",
   "metadata": {},
   "outputs": [],
   "source": [
    "obj_area = rectangle(10,20)"
   ]
  },
  {
   "cell_type": "code",
   "execution_count": 83,
   "id": "241691e2-9886-450b-bc04-e5d925eafe8b",
   "metadata": {},
   "outputs": [
    {
     "data": {
      "text/plain": [
       "200"
      ]
     },
     "execution_count": 83,
     "metadata": {},
     "output_type": "execute_result"
    }
   ],
   "source": [
    "obj_area.area_rectangle()"
   ]
  },
  {
   "cell_type": "code",
   "execution_count": 1,
   "id": "e75c9a37-da62-43d9-9a4b-197914cea649",
   "metadata": {},
   "outputs": [],
   "source": [
    "#10. How can you have multiple constructors in a Python class? Explain with an example.\n",
    "\n",
    "'''\n",
    "Providing Multiple Constructors With @classmethod in Python. A powerful technique for providing multiple constructors\n",
    "in Python is to use @classmethod . This decorator allows you to turn a regular method into a class method. \n",
    "Unlike regular methods, class methods don't take the current instance, self , as an argument.\n",
    "'''\n",
    "# Python program to demonstrate\n",
    "# use of a class method and static method.\n",
    "from datetime import date\n",
    "\n",
    "class Person:\n",
    "\tdef __init__(self, name, age):\n",
    "\t\tself.name = name\n",
    "\t\tself.age = age\n",
    "\n",
    "\t# a class method to create a\n",
    "\t# Person object by birth year.\n",
    "\t@classmethod\n",
    "\tdef fromBirthYear(cls, name, year):\n",
    "\t\treturn cls(name, date.today().year - year)\n",
    "\n",
    "\tdef display(self):\n",
    "\t\tprint(\"Name : \", self.name, \"Age : \", self.age)\n",
    "\n",
    "\n"
   ]
  },
  {
   "cell_type": "code",
   "execution_count": 2,
   "id": "30979dcc-5ae5-4b1a-9476-dcaee867a492",
   "metadata": {},
   "outputs": [],
   "source": [
    "person = Person('mayank', 21)\n"
   ]
  },
  {
   "cell_type": "code",
   "execution_count": 3,
   "id": "86795971-435f-40d6-8383-739550e220d4",
   "metadata": {},
   "outputs": [
    {
     "name": "stdout",
     "output_type": "stream",
     "text": [
      "Name :  mayank Age :  21\n"
     ]
    }
   ],
   "source": [
    "person.display()"
   ]
  },
  {
   "cell_type": "code",
   "execution_count": 6,
   "id": "f97ec887-8a9a-41cd-9b85-791242a13270",
   "metadata": {},
   "outputs": [
    {
     "data": {
      "text/plain": [
       "<__main__.Person at 0x7fc1542ecdc0>"
      ]
     },
     "execution_count": 6,
     "metadata": {},
     "output_type": "execute_result"
    }
   ],
   "source": [
    "person.fromBirthYear('abc',22)"
   ]
  },
  {
   "cell_type": "code",
   "execution_count": 1,
   "id": "6f0bbbf0-e440-4a47-9a56-95253ab97e25",
   "metadata": {},
   "outputs": [
    {
     "name": "stdout",
     "output_type": "stream",
     "text": [
      "6\n",
      "12\n",
      "17.204\n"
     ]
    }
   ],
   "source": [
    "#11. What is method overloading, and how is it related to constructors in Python?\n",
    "\n",
    "'''\n",
    "Two methods in a class have the same name we call method overloading. Both the methods are having different signatures. \n",
    "Signature means a different number of parameters. If the constructor is written two times with different signatures, \n",
    "we call constructor overloading.\n",
    "'''\n",
    "from multipledispatch import dispatch\n",
    "\n",
    "# passing one parameter\n",
    "\n",
    "@dispatch(int, int)\n",
    "def product(first, second):\n",
    "\tresult = first*second\n",
    "\tprint(result)\n",
    "\n",
    "# passing two parameters\n",
    "\n",
    "@dispatch(int, int, int)\n",
    "def product(first, second, third):\n",
    "\tresult = first * second * third\n",
    "\tprint(result)\n",
    "\n",
    "# you can also pass data type of any value as per requirement\n",
    "\n",
    "@dispatch(float, float, float)\n",
    "def product(first, second, third):\n",
    "\tresult = first * second * third\n",
    "\tprint(result)\n",
    "\n",
    "\n",
    "# calling product method with 2 arguments\n",
    "product(2, 3) # this will give output of 6\n",
    "\n",
    "# calling product method with 3 arguments but all int\n",
    "product(2, 3, 2) # this will give output of 12\n",
    "\n",
    "# calling product method with 3 arguments but all float\n",
    "product(2.2, 3.4, 2.3) # this will give output of 17.985999999999997\n"
   ]
  },
  {
   "cell_type": "code",
   "execution_count": 14,
   "id": "871aab78-2fa5-4ea5-96f2-7df47287afe6",
   "metadata": {},
   "outputs": [
    {
     "name": "stdout",
     "output_type": "stream",
     "text": [
      "Collecting multipledispatch\n",
      "  Downloading multipledispatch-1.0.0-py3-none-any.whl (12 kB)\n",
      "Installing collected packages: multipledispatch\n",
      "Successfully installed multipledispatch-1.0.0\n",
      "Note: you may need to restart the kernel to use updated packages.\n"
     ]
    }
   ],
   "source": [
    "pip install multipledispatch\n"
   ]
  },
  {
   "cell_type": "code",
   "execution_count": 132,
   "id": "cd44cb79-3451-4391-8ff9-6d5fdc2ca190",
   "metadata": {},
   "outputs": [],
   "source": [
    "#12. Explain the use of the `super()` function in Python constructors. Provide an example.\n",
    "\n",
    "'''\n",
    "The super() function is often used with the __init__() method to initialize the attributes of the parent class. \n",
    "In this example, we have a Parent class and a Child class that inherits from the Parent class. \n",
    "\n",
    "Super method is used to get the data of same variable name from parent constructor to child class.\n",
    "\n",
    "'''\n",
    "# child Class.\n",
    "class bustime:\n",
    "  #init method for child class.  \n",
    "    def __init__(self,bus_route,bustime):\n",
    "        self.bus_route = bus_route\n",
    "        self.bustime   = bustime\n",
    "        \n",
    "    def bustm(self):\n",
    "        print(f' Bus Route is  : {self.bus_route} , Bus timing is  : { self.bustime}') \n",
    " #parent class.\n",
    "class bustime1(bustime):\n",
    " \n",
    " #super method invoke to get data from child class.\n",
    "    def __init__(self,bus_route,bustime,bustim):\n",
    "        super().__init__(bus_route, bustime)\n",
    "        self.bustim = bustim\n",
    "  # calling busroute from the child class and timing from the parent class.\n",
    "\n",
    "    def bustim2(self,bustim):\n",
    "        print(f' Bus route is : {self.bus_route} , Bus timing is : {self.bustim}')\n",
    "        \n",
    "        \n",
    "        \n"
   ]
  },
  {
   "cell_type": "code",
   "execution_count": 133,
   "id": "aa317ed0-b0ca-4a03-b6ae-031e2ab9f9aa",
   "metadata": {},
   "outputs": [],
   "source": [
    "obj_1 = bustime1('102' , '10:30 AM' , '11:00 AM')"
   ]
  },
  {
   "cell_type": "code",
   "execution_count": 134,
   "id": "c38f5056-e984-4004-803d-3069117bb2c7",
   "metadata": {},
   "outputs": [
    {
     "name": "stdout",
     "output_type": "stream",
     "text": [
      " Bus Route is  : 102 , Bus timing is  : 10:30 AM\n"
     ]
    }
   ],
   "source": [
    "obj_1.bustm()"
   ]
  },
  {
   "cell_type": "code",
   "execution_count": 135,
   "id": "a2908b25-0fbb-4a29-8a15-870083ff5423",
   "metadata": {},
   "outputs": [
    {
     "name": "stdout",
     "output_type": "stream",
     "text": [
      " Bus route is : 102 , Bus timing is : 11:00 AM\n"
     ]
    }
   ],
   "source": [
    "obj_1.bustim2('11:00 AM')"
   ]
  },
  {
   "cell_type": "code",
   "execution_count": 136,
   "id": "dc582928-e616-4ef1-b0a3-967f7a0f92e4",
   "metadata": {},
   "outputs": [],
   "source": [
    "#13. Create a class called `Book` with a constructor that initializes the `title`, `author`, and `published_year` \n",
    "#    attributes. Provide a method to display book details.\n",
    "\n",
    "class book:\n",
    "    \n",
    "    def __init__(self):\n",
    "        self.title = \"Physics Book\"\n",
    "        self.author = \"Ramam\"\n",
    "        self.published_year = 2010\n",
    "        \n",
    "    def display_book_detail(self):\n",
    "        print(f' Title of the book : {self.title} , Author name is : {self.author} , Published Year is :{self.published_year}')\n",
    "        "
   ]
  },
  {
   "cell_type": "code",
   "execution_count": 137,
   "id": "c99cce38-4094-4213-abe7-bfb2a1f63335",
   "metadata": {},
   "outputs": [],
   "source": [
    "book_obj = book()"
   ]
  },
  {
   "cell_type": "code",
   "execution_count": 138,
   "id": "7391eebc-a252-4762-82b8-3397f2bf9f70",
   "metadata": {},
   "outputs": [
    {
     "name": "stdout",
     "output_type": "stream",
     "text": [
      " Title of the book : Physics Book , Author name is : Ramam , Published Year is :2010\n"
     ]
    }
   ],
   "source": [
    "book_obj.display_book_detail()"
   ]
  },
  {
   "cell_type": "code",
   "execution_count": 139,
   "id": "5effd91f-22d8-401a-9e77-6a0523502fbb",
   "metadata": {},
   "outputs": [
    {
     "data": {
      "text/plain": [
       "'\\nConstructor is used to keep the temp values to pass on different methods used with in class. Constructor is self executable\\nmethod while pharsing the code and has no return type and cannot inhertied by subclass.\\n\\nOther hand, regular method is invoked with the name using class. regular method is used to do compute and produce the \\nresult. Can inhertied by the subclass.\\n\\n'"
      ]
     },
     "execution_count": 139,
     "metadata": {},
     "output_type": "execute_result"
    }
   ],
   "source": [
    "#14. Discuss the differences between constructors and regular methods in Python classes.\n",
    "\n",
    "'''\n",
    "Constructor is used to keep the temp values to pass on different methods used with in class. Constructor is self executable\n",
    "method while pharsing the code and has no return type and cannot inhertied by subclass.\n",
    "\n",
    "Other hand, regular method is invoked with the name using class. regular method is used to do compute and produce the \n",
    "result. Can inhertied by the subclass.\n",
    "\n",
    "'''\n"
   ]
  },
  {
   "cell_type": "code",
   "execution_count": null,
   "id": "77b40862-c3f2-4adf-93b1-5fcff1d77e72",
   "metadata": {},
   "outputs": [],
   "source": [
    "#15. Explain the role of the `self` parameter in instance variable initialization within a constructor.\n",
    "\n",
    "'''\n",
    "self is the parameter that tells the other methods this object/variable belogs to the same class and help to use the \n",
    "variable in other methods with in class. Its initalize the attribute of the object.\n",
    "\n",
    "'''"
   ]
  },
  {
   "cell_type": "code",
   "execution_count": 140,
   "id": "587cfa37-a0f4-4099-bca5-911eed28beaf",
   "metadata": {},
   "outputs": [],
   "source": [
    "#16. How do you prevent a class from having multiple instances by using constructors in Python? Provide an example.\n",
    "\n",
    "'''\n",
    "Using the @classmethod decorator to provide multiple constructors in a class is a fairly popular technique in Python.\n",
    "'''\n",
    "\n",
    "# point.py\n",
    "\n",
    "import math\n",
    "\n",
    "class PolarPoint:\n",
    "    def __init__(self, distance, angle):\n",
    "        self.distance = distance\n",
    "        self.angle = angle\n",
    "\n",
    "    @classmethod\n",
    "    def from_cartesian(cls, x, y):\n",
    "        distance = math.dist((0, 0), (x, y))\n",
    "        angle = math.degrees(math.atan2(y, x))\n",
    "        return cls(distance, angle)\n",
    "\n",
    "    def __repr__(self):\n",
    "        return (\n",
    "            f\"{self.__class__.__name__}\"\n",
    "            f\"(distance={self.distance:.1f}, angle={self.angle:.1f})\"\n",
    "        )\n"
   ]
  },
  {
   "cell_type": "code",
   "execution_count": 143,
   "id": "f4951c6f-57be-4c94-bcf2-8b224e703de6",
   "metadata": {},
   "outputs": [],
   "source": [
    "obj_01 = PolarPoint(10,20)\n",
    "\n"
   ]
  },
  {
   "cell_type": "code",
   "execution_count": 146,
   "id": "69cc8b73-dfa0-4f6b-a226-ea1c3ae152e2",
   "metadata": {},
   "outputs": [
    {
     "data": {
      "text/plain": [
       "PolarPoint(distance=23.3, angle=64.5)"
      ]
     },
     "execution_count": 146,
     "metadata": {},
     "output_type": "execute_result"
    }
   ],
   "source": [
    "obj_01.from_cartesian(10,21)"
   ]
  },
  {
   "cell_type": "code",
   "execution_count": 164,
   "id": "47f93a00-46e9-49f9-b3af-0c969e9f0d48",
   "metadata": {},
   "outputs": [],
   "source": [
    "#17. Create a Python class called `Student` with a constructor that takes a list of subjects as a parameter and \n",
    "#    initializes the `subjects` attribute.\n",
    "\n",
    "class student:\n",
    "    \n",
    "    def __init__(self, *args ):\n",
    "        self.args = args\n",
    "        \n",
    "        \n",
    "    def subject(self):\n",
    "        for i in self.args:\n",
    "            if i =='math':\n",
    "                print(f' This is math subject : attribute is you can learn math')\n",
    "            elif i == 'hindi':\n",
    "                print(f' This is hindi subject : attribute is you can learn hindi')\n",
    "            else :\n",
    "                print(f' This is english subject : attribute is you can learn english')\n",
    "\n",
    "                \n",
    "                \n",
    "        \n",
    "        "
   ]
  },
  {
   "cell_type": "code",
   "execution_count": 165,
   "id": "f4201cc5-a8f5-4a68-83bf-ac90fc88a29a",
   "metadata": {},
   "outputs": [],
   "source": [
    "obj_subject =student('math', 'hindi', 'english')"
   ]
  },
  {
   "cell_type": "code",
   "execution_count": 166,
   "id": "65f6c299-701a-4091-98b8-6304d555ff06",
   "metadata": {},
   "outputs": [
    {
     "name": "stdout",
     "output_type": "stream",
     "text": [
      " This is math subject : attribute is you can learn math\n",
      " This is hindi subject : attribute is you can learn hindi\n",
      " This is english subject : attribute is you can learn english\n"
     ]
    }
   ],
   "source": [
    "obj_subject.subject()"
   ]
  },
  {
   "cell_type": "code",
   "execution_count": 167,
   "id": "d43f1936-ec02-4aaf-953b-9493fc153425",
   "metadata": {},
   "outputs": [
    {
     "data": {
      "text/plain": [
       "'\\n__del__ is a kind of dunder method (destructor method) which close all the operation once invoke. It invoked automatically at the end of the \\nand remove all garbage collection.\\n\\nit is same as constructor method, whatever we initate in constructor it close it end.\\n'"
      ]
     },
     "execution_count": 167,
     "metadata": {},
     "output_type": "execute_result"
    }
   ],
   "source": [
    "#18. What is the purpose of the `__del__` method in Python classes, and how does it relate to constructors?\n",
    "\n",
    "'''\n",
    "__del__ is a kind of dunder method (destructor method) which close all the operation once invoke. It invoked automatically at the end of the \n",
    "and remove all garbage collection.\n",
    "\n",
    "it is same as constructor method, whatever we initate in constructor it close it end.\n",
    "'''\n",
    "\n"
   ]
  },
  {
   "cell_type": "code",
   "execution_count": 173,
   "id": "edb5c583-9e8e-4328-a18e-0b0729bc6334",
   "metadata": {},
   "outputs": [],
   "source": [
    "#19. Explain the use of constructor chaining in Python. Provide a practical example.\n",
    "\n",
    "'''\n",
    "Constructor chaining - is the machanisam to use one class constructor in another class for the same category.\n",
    "Basically it is used for same set of catagories.\n",
    "\n",
    "'''\n",
    "\n",
    "class Human(object):\n",
    "    def __init__(self):\n",
    "        print(\"Hi this is Human Constructor\")\n",
    "\n",
    "    def whoAmI(self):\n",
    "        print(\"I am Human\")\n",
    "\n",
    "\n",
    "class Man(Human):\n",
    "    def __init__(self):\n",
    "        super(Man, self).__init__()\n",
    "        print(\"Hi this is Man Constructor\")\n",
    "\n",
    "class Woman(Human):\n",
    "    def __init__(self):\n",
    "        super(Woman, self).__init__()\n",
    "        print(\"Hi this is Woman Constructor\")"
   ]
  },
  {
   "cell_type": "code",
   "execution_count": 174,
   "id": "1bcf15bb-87c8-4d31-9c9e-3628468cd531",
   "metadata": {},
   "outputs": [
    {
     "name": "stdout",
     "output_type": "stream",
     "text": [
      "Hi this is Human Constructor\n",
      "Hi this is Man Constructor\n"
     ]
    }
   ],
   "source": [
    "obj_man = Man()"
   ]
  },
  {
   "cell_type": "code",
   "execution_count": 175,
   "id": "8ba011f5-dc2f-44ff-a94e-e69aeed4e8c8",
   "metadata": {},
   "outputs": [
    {
     "name": "stdout",
     "output_type": "stream",
     "text": [
      "Hi this is Human Constructor\n",
      "Hi this is Woman Constructor\n"
     ]
    }
   ],
   "source": [
    "obj_women = Woman()"
   ]
  },
  {
   "cell_type": "code",
   "execution_count": 176,
   "id": "d5f3c470-c8bf-4e6d-b3eb-66cfb4eecbb9",
   "metadata": {},
   "outputs": [],
   "source": [
    "#20. Create a Python class called `Car` with a default constructor that initializes the `make` and `model` attributes. \n",
    "#    Provide a method to display car information.\n",
    "\n",
    "class car:\n",
    "    \n",
    "    def __init__(self,make,model):\n",
    "        self.make = make\n",
    "        self.model = model\n",
    "        \n",
    "    def display_car_info(self):\n",
    "        print(f' Car model is : {self.model} and Car making is : {self.make}')\n",
    "        "
   ]
  },
  {
   "cell_type": "code",
   "execution_count": 178,
   "id": "92f98aa8-93eb-4ed5-abc6-8e5ecf774eff",
   "metadata": {},
   "outputs": [],
   "source": [
    "car_obj = car('maruti' , 'swfit')"
   ]
  },
  {
   "cell_type": "code",
   "execution_count": 179,
   "id": "6d7fee62-6d2a-4c27-b70d-de4ec48ae304",
   "metadata": {},
   "outputs": [
    {
     "name": "stdout",
     "output_type": "stream",
     "text": [
      " Car model is : swfit and Car making is : maruti\n"
     ]
    }
   ],
   "source": [
    "car_obj.display_car_info()"
   ]
  },
  {
   "cell_type": "code",
   "execution_count": null,
   "id": "cfbf7e88-d365-4441-8514-4d805db6b59a",
   "metadata": {},
   "outputs": [],
   "source": []
  },
  {
   "cell_type": "raw",
   "id": "3a1fb385-be02-420d-ab8d-5714c178da18",
   "metadata": {},
   "source": [
    "# Inheritance ➖\n",
    "#1. What is inheritance in Python? Explain its significance in object-oriented programming.\n",
    "\n",
    "'''\n",
    "Inheritance is the concept in OOPs in which one class inherits the attributes and methods of another class. The class whose properties and methods are inherited is known as the Parent class. And the class that inherits the properties from the parent class is the Child class.\n",
    "'''\n"
   ]
  },
  {
   "cell_type": "code",
   "execution_count": 15,
   "id": "2de2a952-5e6c-4138-9edb-ce77c9ca6941",
   "metadata": {},
   "outputs": [],
   "source": [
    "#2. Differentiate between single inheritance and multiple inheritance in Python. Provide examples for each.\n",
    "\n",
    "'''\n",
    "The main difference between single and multiple inheritance is that in single inheritance, the subclass inherits \n",
    "properties and methods from a single superclass while in multiple inheritance, the subclass inherits properties and \n",
    "methods from multiple superclasses.\n",
    "'''\n",
    "\n",
    "# example of single inhertiance.\n",
    "\n",
    "class student:\n",
    "    def rollno(self):\n",
    "        self.rollno1 = '101'\n",
    "\n",
    "class teacher(student):\n",
    "    def teacher_01(self):\n",
    "        print(\"student roll no is \" , self.rollno1)\n",
    "        \n",
    "obj_1 = teacher()    \n",
    "obj_1.teacher_01()"
   ]
  },
  {
   "cell_type": "code",
   "execution_count": 75,
   "id": "cbf922fa-d3cc-4939-91b1-e786352ad96f",
   "metadata": {},
   "outputs": [],
   "source": [
    "#example of multiple inheritance.\n",
    "\n",
    "class abc:\n",
    "    \n",
    "    def a1(self):\n",
    "        print(\"this is ABC class\")\n",
    "\n",
    "class abc1:    \n",
    "    def  a2(self):\n",
    "        print(\"this is ABC1 class\")\n",
    "        \n",
    "class abc2(abc,abc1):\n",
    "    \n",
    "    def display_Data(self):\n",
    "        abc2.a1(self)\n",
    "        abc2.a2(self)\n",
    "        \n",
    "    "
   ]
  },
  {
   "cell_type": "code",
   "execution_count": 76,
   "id": "202ae035-3d72-444f-a523-4f07e3bb18ea",
   "metadata": {},
   "outputs": [],
   "source": [
    "obj_2= abc2()\n"
   ]
  },
  {
   "cell_type": "code",
   "execution_count": 77,
   "id": "36a1819d-d62b-4639-91b0-367c7220b017",
   "metadata": {},
   "outputs": [
    {
     "name": "stdout",
     "output_type": "stream",
     "text": [
      "this is ABC class\n",
      "this is ABC1 class\n"
     ]
    }
   ],
   "source": [
    "obj_2.display_Data()\n"
   ]
  },
  {
   "cell_type": "code",
   "execution_count": 217,
   "id": "f2dd428e-687d-4d15-9712-aeabe3d637c2",
   "metadata": {},
   "outputs": [],
   "source": [
    "#3. Create a Python class called `Vehicle` with attributes `color` and `speed`. Then, create a child class called `Car` \n",
    "#   that inherits from `Vehicle` and adds a `brand` attribute. Provide an example of creating a `Car` object.\n",
    "\n",
    "class vehicle:\n",
    "    def color_speed(self):\n",
    "        self.color = 'Red'\n",
    "        self.speed = 100\n",
    "        print(f' color and speed of the car is :  {self.color} :: {self.speed}')\n",
    "class car(vehicle):\n",
    "        \n",
    "    def display_car(self,brand):\n",
    "        print( f' brand of the car is : {brand} ')\n",
    "        \n",
    "        \n",
    "        \n",
    "    "
   ]
  },
  {
   "cell_type": "code",
   "execution_count": 218,
   "id": "a8a64915-bdba-4f94-ac91-6409f5ebda28",
   "metadata": {},
   "outputs": [],
   "source": [
    "obj_car = car()"
   ]
  },
  {
   "cell_type": "code",
   "execution_count": 222,
   "id": "62e6dc3f-f002-444d-b082-9ac018fbbd10",
   "metadata": {},
   "outputs": [
    {
     "name": "stdout",
     "output_type": "stream",
     "text": [
      " brand of the car is : maruti \n",
      " color and speed of the car is :  Red :: 100\n",
      " None , None\n"
     ]
    }
   ],
   "source": [
    "print(f\" {obj_car.display_car('maruti')} , {obj_car.color_speed()}\")"
   ]
  },
  {
   "cell_type": "code",
   "execution_count": 246,
   "id": "0111ff38-34f6-4fd1-a6fb-b5b9297f2c25",
   "metadata": {},
   "outputs": [],
   "source": [
    "#4. Explain the concept of method overriding in inheritance. Provide a practical example.\n",
    "\n",
    "'''\n",
    "Method overriding, in object-oriented programming, is a language feature that allows a subclass or \n",
    "child class to provide a specific implementation of a method that is already provided by one of its \n",
    "superclasses or parent classes.\n",
    "'''\n",
    "\n",
    "class parent:\n",
    "    def __init__(self):\n",
    "        self.value = \"inside parent class\"\n",
    "        \n",
    "    def show(self):\n",
    "        print(self.value)\n",
    "        \n",
    "class child(parent):\n",
    "    def __init__(self):\n",
    "        self.value = \"inside child class\"\n",
    "        \n",
    "    def show(Self):\n",
    "        print(Self.value)\n",
    "        \n",
    "        "
   ]
  },
  {
   "cell_type": "code",
   "execution_count": 247,
   "id": "e1daa4b0-b1d6-48b6-8ad6-a848977cbc0e",
   "metadata": {},
   "outputs": [],
   "source": [
    "obj_01 = child()\n",
    "obj_02 = parent()"
   ]
  },
  {
   "cell_type": "code",
   "execution_count": 248,
   "id": "86cfc5fa-4e2a-4be1-a1c9-d732d18d9a6d",
   "metadata": {},
   "outputs": [
    {
     "name": "stdout",
     "output_type": "stream",
     "text": [
      "inside child class\n"
     ]
    }
   ],
   "source": [
    "obj_01.show()"
   ]
  },
  {
   "cell_type": "code",
   "execution_count": 249,
   "id": "82e5cfd7-e7d9-49e9-a07a-e14aca4ec2d3",
   "metadata": {},
   "outputs": [
    {
     "name": "stdout",
     "output_type": "stream",
     "text": [
      "inside parent class\n"
     ]
    }
   ],
   "source": [
    "obj_02.show()"
   ]
  },
  {
   "cell_type": "code",
   "execution_count": 250,
   "id": "f645a66c-cbeb-459e-9140-6670f4e803e6",
   "metadata": {},
   "outputs": [
    {
     "name": "stdout",
     "output_type": "stream",
     "text": [
      "COE\n",
      "COE\n",
      "SHIVAM\n",
      "SACHIN\n",
      "3425\n",
      "3624\n",
      "COE\n"
     ]
    }
   ],
   "source": [
    "#5. How can you access the methods and attributes of a parent class from a child class in Python? \n",
    "#   Give an example.\n",
    "\n",
    "# Python program to demonstrate \n",
    "# classes and objects \n",
    "\n",
    "\n",
    "# Creating a class \n",
    "class Student: \n",
    "\t\n",
    "\t# Class Variable \n",
    "\tstream = 'COE'\n",
    "\t\n",
    "\tdef __init__(self, name, roll_no): \n",
    "\n",
    "\t\t# Instance Variable \n",
    "\t\tself.name = name \n",
    "\t\tself.roll_no = roll_no \n",
    "\n",
    "# Objects of Student class \n",
    "a = Student('SHIVAM', 3425) \n",
    "b = Student('SACHIN', 3624) \n",
    "\n",
    "print(a.stream) \n",
    "print(b.stream) \n",
    "print(a.name) \n",
    "print(b.name) \n",
    "print(a.roll_no) \n",
    "print(b.roll_no) \n",
    "\n",
    "# Class variables can be \n",
    "# accessed using class \n",
    "# name also \n",
    "print(Student.stream) \n"
   ]
  },
  {
   "cell_type": "code",
   "execution_count": 255,
   "id": "e955a6a9-8289-41f0-b511-9ed4b15822dd",
   "metadata": {},
   "outputs": [
    {
     "name": "stdout",
     "output_type": "stream",
     "text": [
      " Hello, Alice! \n"
     ]
    }
   ],
   "source": [
    "#6. Discuss the use of the `super()` function in Python inheritance. When and why is it used? \n",
    "#   Provide an example.\n",
    "\n",
    "'''\n",
    "super function is used to call the object from the parent class into child class from constructor.\n",
    "whenever we need to use the values of parent constructor to the child constructor.\n",
    "It is commonly used to avoid redundant code and make it more organized and easier to maintain.\n",
    "'''\n",
    "\n",
    "class Parent:\n",
    "\n",
    "    def __init__(self, name):\n",
    "        self.name = name\n",
    "\n",
    "    def greet(self):\n",
    "        \n",
    "        print(f\" Hello, {self.name}! \")\n",
    "\n",
    "class Child(Parent):\n",
    "    def __init__(self, name, age):\n",
    "        super().__init__(name)\n",
    "        self.age = age\n",
    "\n",
    "child = Child(\"Alice\", 10)\n",
    "\n",
    "child.greet()\n"
   ]
  },
  {
   "cell_type": "code",
   "execution_count": 256,
   "id": "ad8d3bdd-154b-431c-8dc7-51f1672fb040",
   "metadata": {},
   "outputs": [],
   "source": [
    "#7. Create a Python class called `Animal` with a method `speak()`. Then, create child classes `Dog` \n",
    "#   and `Cat` that inherit from `Animal` and override the `speak()` method. Provide an example of using \n",
    "#   these classes.\n",
    "\n",
    "class animal:\n",
    "    \n",
    "    def speak(self):\n",
    "        print(\"this is an anmial class\")\n",
    "        \n",
    "class dog(animal):\n",
    "    def speak(self):\n",
    "        print(\"this is a dog class\")\n",
    "    \n",
    "class cat(animal):\n",
    "    def speak(self):\n",
    "        print(\"this is a cat class\")\n",
    "    \n",
    "    \n",
    "    "
   ]
  },
  {
   "cell_type": "code",
   "execution_count": 258,
   "id": "29b847fe-4776-4d7e-89b2-78939a9d091c",
   "metadata": {},
   "outputs": [],
   "source": [
    "obj_dog = dog()\n",
    "obj_cat = cat()"
   ]
  },
  {
   "cell_type": "code",
   "execution_count": 259,
   "id": "a3c1dae8-5088-4b5f-8499-8cc50242b0a1",
   "metadata": {},
   "outputs": [
    {
     "name": "stdout",
     "output_type": "stream",
     "text": [
      "this is a dog class\n"
     ]
    }
   ],
   "source": [
    "obj_dog.speak()"
   ]
  },
  {
   "cell_type": "code",
   "execution_count": 260,
   "id": "4c822633-12ae-4653-98e5-5b8ce3ec266b",
   "metadata": {},
   "outputs": [
    {
     "name": "stdout",
     "output_type": "stream",
     "text": [
      "this is a cat class\n"
     ]
    }
   ],
   "source": [
    "obj_cat.speak()"
   ]
  },
  {
   "cell_type": "code",
   "execution_count": 261,
   "id": "412582c1-8cb1-48b9-99f5-b7520ec4362a",
   "metadata": {},
   "outputs": [
    {
     "name": "stdout",
     "output_type": "stream",
     "text": [
      "True\n",
      "False\n",
      "True\n"
     ]
    }
   ],
   "source": [
    "#8. Explain the role of the `isinstance()` function in Python and how it relates to inheritance.\n",
    "\n",
    "'''\n",
    "The isinstance () function checks whether an object is an instance of the class mentioned. One can test \n",
    "if an object or variable is an instance of the type or class. If inheritance is present in the program, \n",
    "then the function can be used to check if a specified class is the parent class of an object.\n",
    "'''\n",
    "class Test1:\n",
    "\n",
    "              a = 6\n",
    "\n",
    "testInstance = Test1 ()\n",
    "\n",
    "print (isinstance (testInstance, Test1))\n",
    "\n",
    "print (isinstance (testInstance, (list, tuple)))\n",
    "\n",
    "print (isinstance (testInstance, (list, tuple, Test1)))\n"
   ]
  },
  {
   "cell_type": "code",
   "execution_count": 262,
   "id": "c02d8c7e-4df5-4ae6-8928-952ef056bba9",
   "metadata": {},
   "outputs": [
    {
     "name": "stdout",
     "output_type": "stream",
     "text": [
      "True\n"
     ]
    }
   ],
   "source": [
    "#9. What is the purpose of the `issubclass()` function in Python? Provide an example.\n",
    "'''\n",
    "The issubclass() function returns a boolean indicating whether a given class is a subclass of one or \n",
    "more classes.\n",
    "'''\n",
    "\n",
    "class myAge:\n",
    "  age = 36\n",
    "\n",
    "class myInfo(myAge):\n",
    "  name = \"Homer\"\n",
    "  age = myAge\n",
    "\n",
    "print(issubclass(myInfo, myAge))"
   ]
  },
  {
   "cell_type": "code",
   "execution_count": 1,
   "id": "20d5bd63-7817-432a-8919-cb9d57f7f43a",
   "metadata": {},
   "outputs": [
    {
     "data": {
      "text/plain": [
       "'\\nconstructor is used to get the data using __init__ method and it can be used anywhere in the child class \\nusing Super() method. \\n\\n'"
      ]
     },
     "execution_count": 1,
     "metadata": {},
     "output_type": "execute_result"
    }
   ],
   "source": [
    "#10. Discuss the concept of constructor inheritance in Python. How are constructors inherited in child \n",
    "#    classes?\n",
    "\n",
    "'''\n",
    "constructor is used to get the data using __init__ method and it can be used anywhere in the child class \n",
    "using Super() method. \n",
    "\n",
    "'''\n"
   ]
  },
  {
   "cell_type": "code",
   "execution_count": 3,
   "id": "fb68a523-c3fa-452e-92fc-5b7a53133021",
   "metadata": {},
   "outputs": [
    {
     "name": "stdout",
     "output_type": "stream",
     "text": [
      "Radius of the circle: 7\n",
      "Circle Area: 153.86\n",
      "\n",
      "Rectangle: Length = 5  Width = 7\n",
      "Rectangle Area: 35\n"
     ]
    }
   ],
   "source": [
    "#11. Create a Python class called `Shape` with a method `area()` that calculates the area of a shape. \n",
    "#    Then, create child classes `Circle` and `Rectangle` that inherit from `Shape` and implement the `area()` \n",
    "#    method accordingly. Provide an example.\n",
    "\n",
    "\n",
    "# Define a base class called Shape to represent a generic shape with methods for calculating area and perimeter\n",
    "class Shape:\n",
    "    # Placeholder method for calculating area (to be implemented in derived classes)\n",
    "    def calculate_area(self):\n",
    "        pass\n",
    "\n",
    "# Define a derived class called Circle, which inherits from the Shape class\n",
    "class Circle(Shape):\n",
    "    # Initialize the Circle object with a given radius\n",
    "    def __init__(self, radius):\n",
    "        self.radius = radius\n",
    "\n",
    "    # Calculate and return the area of the circle using the formula: π * r^2\n",
    "    def calculate_area(self):\n",
    "        return 3.14 * self.radius**2\n",
    "\n",
    "\n",
    "# Define a derived class called Rectangle, which inherits from the Shape class\n",
    "class Rectangle(Shape):\n",
    "    # Initialize the Rectangle object with given length and width\n",
    "    def __init__(self, length, width):\n",
    "        self.length = length\n",
    "        self.width = width\n",
    "\n",
    "    # Calculate and return the area of the rectangle using the formula: length * width\n",
    "    def calculate_area(self):\n",
    "        return self.length * self.width\n",
    "\n",
    "# Example usage\n",
    "# Create a Circle object with a given radius and calculate its area and perimeter\n",
    "r = 7\n",
    "circle = Circle(r)\n",
    "circle_area = circle.calculate_area()\n",
    "\n",
    "# Print the results for the Circle\n",
    "print(\"Radius of the circle:\", r)\n",
    "print(\"Circle Area:\", circle_area)\n",
    "\n",
    "# Create a Rectangle object with given length and width and calculate its area and perimeter\n",
    "l = 5\n",
    "w = 7\n",
    "rectangle = Rectangle(l, w)\n",
    "rectangle_area = rectangle.calculate_area()\n",
    "\n",
    "# Print the results for the Rectangle\n",
    "print(\"\\nRectangle: Length =\", l, \" Width =\", w)\n",
    "print(\"Rectangle Area:\", rectangle_area)\n",
    "\n"
   ]
  },
  {
   "cell_type": "code",
   "execution_count": 2,
   "id": "ef18b2ff-8f93-4072-b07d-fad733223106",
   "metadata": {},
   "outputs": [
    {
     "ename": "NameError",
     "evalue": "name 'abstractmethod' is not defined",
     "output_type": "error",
     "traceback": [
      "\u001b[0;31m---------------------------------------------------------------------------\u001b[0m",
      "\u001b[0;31mNameError\u001b[0m                                 Traceback (most recent call last)",
      "Cell \u001b[0;32mIn[2], line 14\u001b[0m\n\u001b[1;32m      4\u001b[0m \u001b[38;5;124;03m'''\u001b[39;00m\n\u001b[1;32m      5\u001b[0m \u001b[38;5;124;03mThe collections module has some concrete classes that derive from ABCs; these can, of course, be further \u001b[39;00m\n\u001b[1;32m      6\u001b[0m \u001b[38;5;124;03mderived. In addition, the collections.abc submodule has some ABCs that can be used to test whether a class \u001b[39;00m\n\u001b[0;32m   (...)\u001b[0m\n\u001b[1;32m     10\u001b[0m \u001b[38;5;124;03mdefine ABCs through inheritance:\u001b[39;00m\n\u001b[1;32m     11\u001b[0m \u001b[38;5;124;03m'''\u001b[39;00m\n\u001b[1;32m     12\u001b[0m \u001b[38;5;28;01mfrom\u001b[39;00m \u001b[38;5;21;01mabc\u001b[39;00m \u001b[38;5;28;01mimport\u001b[39;00m ABC\n\u001b[0;32m---> 14\u001b[0m \u001b[38;5;28;01mclass\u001b[39;00m \u001b[38;5;21;01mC\u001b[39;00m(ABC):\n\u001b[1;32m     15\u001b[0m     \u001b[38;5;129m@abstractmethod\u001b[39m\n\u001b[1;32m     16\u001b[0m     \u001b[38;5;28;01mdef\u001b[39;00m \u001b[38;5;21mmy_abstract_method\u001b[39m(\u001b[38;5;28mself\u001b[39m, arg1):\n\u001b[1;32m     17\u001b[0m         \u001b[38;5;241m.\u001b[39m\u001b[38;5;241m.\u001b[39m\u001b[38;5;241m.\u001b[39m\n",
      "Cell \u001b[0;32mIn[2], line 15\u001b[0m, in \u001b[0;36mC\u001b[0;34m()\u001b[0m\n\u001b[1;32m     14\u001b[0m \u001b[38;5;28;01mclass\u001b[39;00m \u001b[38;5;21;01mC\u001b[39;00m(ABC):\n\u001b[0;32m---> 15\u001b[0m     \u001b[38;5;129m@abstractmethod\u001b[39m\n\u001b[1;32m     16\u001b[0m     \u001b[38;5;28;01mdef\u001b[39;00m \u001b[38;5;21mmy_abstract_method\u001b[39m(\u001b[38;5;28mself\u001b[39m, arg1):\n\u001b[1;32m     17\u001b[0m         \u001b[38;5;241m.\u001b[39m\u001b[38;5;241m.\u001b[39m\u001b[38;5;241m.\u001b[39m\n\u001b[1;32m     18\u001b[0m     \u001b[38;5;129m@classmethod\u001b[39m\n\u001b[1;32m     19\u001b[0m     \u001b[38;5;129m@abstractmethod\u001b[39m\n\u001b[1;32m     20\u001b[0m     \u001b[38;5;28;01mdef\u001b[39;00m \u001b[38;5;21mmy_abstract_classmethod\u001b[39m(\u001b[38;5;28mcls\u001b[39m, arg2):\n",
      "\u001b[0;31mNameError\u001b[0m: name 'abstractmethod' is not defined"
     ]
    }
   ],
   "source": [
    "#12. Explain the use of abstract base classes (ABCs) in Python and how they relate to inheritance. \n",
    "#    Provide an example using the `abc` module.\n",
    "\n",
    "'''\n",
    "The collections module has some concrete classes that derive from ABCs; these can, of course, be further \n",
    "derived. In addition, the collections.abc submodule has some ABCs that can be used to test whether a class \n",
    "or instance provides a particular interface, for example, if it is hashable or if it is a mapping.\n",
    "\n",
    "This module provides the metaclass ABCMeta for defining ABCs and a helper class ABC to alternatively \n",
    "define ABCs through inheritance:\n",
    "'''\n",
    "from abc import ABC\n",
    "\n",
    "class C(ABC):\n",
    "    @abstractmethod\n",
    "    def my_abstract_method(self, arg1):\n",
    "        ...\n",
    "    @classmethod\n",
    "    @abstractmethod\n",
    "    def my_abstract_classmethod(cls, arg2):\n",
    "        ...\n",
    "    @staticmethod\n",
    "    @abstractmethod\n",
    "    def my_abstract_staticmethod(arg3):\n",
    "        ...\n",
    "\n",
    "    @property\n",
    "    @abstractmethod\n",
    "    def my_abstract_property(self):\n",
    "        ...\n",
    "    @my_abstract_property.setter\n",
    "    @abstractmethod\n",
    "    def my_abstract_property(self, val):\n",
    "        ...\n",
    "\n",
    "    @abstractmethod\n",
    "    def _get_x(self):\n",
    "        ...\n",
    "    @abstractmethod\n",
    "    def _set_x(self, val):\n",
    "        ...\n",
    "    x = property(_get_x, _set_x)\n"
   ]
  },
  {
   "cell_type": "code",
   "execution_count": 6,
   "id": "2e86d654-7618-4418-bc01-bf561908d7fd",
   "metadata": {},
   "outputs": [
    {
     "name": "stdout",
     "output_type": "stream",
     "text": [
      "\u001b[31mERROR: Could not find a version that satisfies the requirement ABC (from versions: none)\u001b[0m\u001b[31m\n",
      "\u001b[0m\u001b[31mERROR: No matching distribution found for ABC\u001b[0m\u001b[31m\n",
      "\u001b[0mNote: you may need to restart the kernel to use updated packages.\n"
     ]
    }
   ],
   "source": [
    "pip install ABC"
   ]
  },
  {
   "cell_type": "code",
   "execution_count": 4,
   "id": "df0acb99-c568-4736-8e8f-2fe73fdf4a0c",
   "metadata": {},
   "outputs": [
    {
     "data": {
      "text/plain": [
       "'\\nusinf prive and protected method/variable.\\n'"
      ]
     },
     "execution_count": 4,
     "metadata": {},
     "output_type": "execute_result"
    }
   ],
   "source": [
    "#13. How can you prevent a child class from modifying certain attributes or methods inherited from a \n",
    "#    parent class in Python?\n",
    "\n",
    "'''\n",
    "using prive and protected method/variable.\n",
    "'''"
   ]
  },
  {
   "cell_type": "code",
   "execution_count": 35,
   "id": "083da60b-d298-4c8d-aed2-4536425b190c",
   "metadata": {},
   "outputs": [],
   "source": [
    "#14. Create a Python class called `Employee` with attributes `name` and `salary`. Then, create a child \n",
    "#    class `Manager` that inherits from `Employee` and adds an attribute `department`. Provide an example\n",
    "\n",
    "class employee:\n",
    "    \n",
    "    def __init__(self,name,sal):\n",
    "        self.name = \"Vikas\"\n",
    "        self.sal  = \"500000\"\n",
    "    \n",
    "class manager(employee):\n",
    "    \n",
    "    def __init__(self,department,name,sal):\n",
    "        super().__init__(name,sal)       \n",
    "        self.department  = department\n",
    "        \n",
    "    def display_depart(self):\n",
    "        print (f' name of the employee : {self.name} ')\n",
    "        print(f' salary of the employee : {self.sal} ')\n",
    "        print(f' department of employee : {self.department} ')\n",
    "        "
   ]
  },
  {
   "cell_type": "code",
   "execution_count": 36,
   "id": "b78a3352-7041-4d49-86b8-ea4a19928672",
   "metadata": {},
   "outputs": [],
   "source": [
    "obj_manager = manager('abc','bbb',333)"
   ]
  },
  {
   "cell_type": "code",
   "execution_count": 37,
   "id": "041f8328-f35f-40c2-b709-89e2dd527f0d",
   "metadata": {},
   "outputs": [
    {
     "name": "stdout",
     "output_type": "stream",
     "text": [
      " name of the employee : Vikas \n",
      " salary of the employee : 500000 \n",
      " department of employee : abc \n"
     ]
    }
   ],
   "source": [
    "obj_manager.display_depart()"
   ]
  },
  {
   "cell_type": "code",
   "execution_count": 38,
   "id": "29f29914-c7a5-4264-9122-ba1b861e6148",
   "metadata": {},
   "outputs": [
    {
     "name": "stdout",
     "output_type": "stream",
     "text": [
      "Hello from ClassTwo\n",
      "Hello from ClassOne\n"
     ]
    }
   ],
   "source": [
    "#15. Discuss the concept of method overloading in Python inheritance. How does it differ from method \n",
    "#    overriding?\n",
    "\n",
    "'''\n",
    "Difference Between Method Overloading and Method Overriding in Python. \n",
    "In the process of method overloading, all the functions or methods must contain the same name with varied \n",
    "signatures. \n",
    "\n",
    "In the process of method overriding, all the functions or methods must possess the very same name along \n",
    "with similar signatures.\n",
    "'''\n",
    "\n",
    "# overriding example.\n",
    "\n",
    "class ClassOne:                          \n",
    "    def display(self):\n",
    "        print(\"Hello from ClassOne\")\n",
    "\n",
    "class ClassTwo(ClassOne):\n",
    "    def display(self):\n",
    "        print(\"Hello from ClassTwo\")\n",
    "        super().display()\n",
    "\n",
    "c2 = ClassTwo()\n",
    "c2.display()\n"
   ]
  },
  {
   "cell_type": "code",
   "execution_count": 58,
   "id": "1a09bf23-e869-4254-8954-e928fede3493",
   "metadata": {},
   "outputs": [
    {
     "name": "stdout",
     "output_type": "stream",
     "text": [
      "a + b + c = 60\n",
      "a + b + c = 30\n"
     ]
    }
   ],
   "source": [
    "# overloading example.\n",
    "\n",
    "class Calculate:\n",
    "    def add(self, a, b,C=0):\n",
    "        \n",
    "      print(\"a + b = {}\".format(a + b))\n",
    "\n",
    "    def add(self, a, b, c=0):\n",
    "      print(\"a + b + c = {}\".format(a + b + c))\n",
    "\n",
    "c1 = Calculate()\n",
    "c1.add(10, 20, 30)\n",
    "c1.add(10,20)\n",
    "    "
   ]
  },
  {
   "cell_type": "code",
   "execution_count": 52,
   "id": "40b7209e-b6f8-45e9-9be0-3887f864d941",
   "metadata": {},
   "outputs": [],
   "source": [
    "#16. Explain the purpose of the `__init__()` method in Python inheritance and how it is utilized in child \n",
    "#    classes.\n",
    "\n",
    "'''\n",
    "Inheritance allows the child class to inherit the __init__() method of the parent class along with the \n",
    "other data members and member functions of that class. The __init__ method of the parent or the base \n",
    "class is called within the __init__ method of the child or sub class.\n",
    "\n",
    "'''"
   ]
  },
  {
   "cell_type": "code",
   "execution_count": 60,
   "id": "f4a9ecca-a577-4e5a-b43e-875b34ae390e",
   "metadata": {},
   "outputs": [],
   "source": [
    "#17. Create a Python class called `Bird` with a method `fly()`. Then, create child classes `Eagle` and \n",
    "#    `Sparrow` that inherit from `Bird` and implement the `fly()` method differently. Provide an example \n",
    "#    of using these classes.\n",
    "\n",
    "class bird:\n",
    "    \n",
    "    def fly(self):\n",
    "        print(\"This is a bird class for fly\")\n",
    "        \n",
    "class eagle(bird):\n",
    "    \n",
    "    def fly(self):\n",
    "        super().fly()\n",
    "        print(\"this is a eagle class\")\n",
    "    \n",
    "class sparrow(bird):\n",
    "    \n",
    "    def fly(self):\n",
    "        super().fly()\n",
    "        print(\"this is a sparrow class\")\n",
    "    "
   ]
  },
  {
   "cell_type": "code",
   "execution_count": 62,
   "id": "4f88f31d-83b2-49f9-b63a-72ffc2d2a51d",
   "metadata": {},
   "outputs": [],
   "source": [
    "obj_eagle = eagle()\n",
    "obj_sparrow = sparrow()"
   ]
  },
  {
   "cell_type": "code",
   "execution_count": 63,
   "id": "1b0d2d3f-4be4-4318-bd3a-670abf6e3369",
   "metadata": {},
   "outputs": [
    {
     "name": "stdout",
     "output_type": "stream",
     "text": [
      "This is a bird class for fly\n",
      "this is a eagle class\n"
     ]
    }
   ],
   "source": [
    "obj_eagle.fly()"
   ]
  },
  {
   "cell_type": "code",
   "execution_count": 64,
   "id": "2584d397-fda8-4fe4-ad42-28b0f8cf77b7",
   "metadata": {},
   "outputs": [
    {
     "name": "stdout",
     "output_type": "stream",
     "text": [
      "This is a bird class for fly\n",
      "this is a sparrow class\n"
     ]
    }
   ],
   "source": [
    "obj_sparrow.fly()"
   ]
  },
  {
   "cell_type": "code",
   "execution_count": 65,
   "id": "0dfb513f-907b-4bf1-987d-18fdcd80a0c7",
   "metadata": {},
   "outputs": [
    {
     "name": "stdout",
     "output_type": "stream",
     "text": [
      "Start init TextDescriber.__init__()\n",
      "Start WordCounter.__init__()\n",
      "Start init Vocabulary.__init__()\n",
      "Start Tokenizer.__init__()\n",
      "End Tokenizer.__init__()\n",
      "End init Vocabulary.__init__()\n",
      "End WordCounter.__init__()\n",
      "End init TextDescriber.__init__()\n",
      "--------\n",
      "['row', 'row', 'row', 'your', 'boat']\n",
      "{'your', 'row', 'boat'}\n",
      "5\n"
     ]
    }
   ],
   "source": [
    "#18. What is the \"diamond problem\" in multiple inheritance, and how does Python address it?\n",
    "\n",
    "'''\n",
    "This combination so far is not a problem and is common. The problem arises if class 2 or 3 (or even both) \n",
    "override a method from their parent class. This provides two different methods with the same name to \n",
    "class 4 and a decision has to be made which one to inherit.\n",
    "\n",
    "\n",
    "The diamond problem is an ambiguity that is arisen when there are two classes say B and C that inherit / \n",
    "are derived from a single class A, and there is another class D, that is a class derived from multiple \n",
    "inheritance and inherits from B as well as C.\n",
    "'''\n",
    "\n",
    "class Tokenizer:\n",
    "    \"\"\"Tokenize text\"\"\"\n",
    "    def __init__(self, text):\n",
    "        print('Start Tokenizer.__init__()')\n",
    "        self.tokens = text.split()\n",
    "        print('End Tokenizer.__init__()')\n",
    "\n",
    "\n",
    "class WordCounter(Tokenizer):\n",
    "    \"\"\"Count words in text\"\"\"\n",
    "    def __init__(self, text):\n",
    "        print('Start WordCounter.__init__()')\n",
    "        super().__init__(text)\n",
    "        self.word_count = len(self.tokens)\n",
    "        print('End WordCounter.__init__()')\n",
    "\n",
    "\n",
    "class Vocabulary(Tokenizer):\n",
    "    \"\"\"Find unique words in text\"\"\"\n",
    "    def __init__(self, text):\n",
    "        print('Start init Vocabulary.__init__()')\n",
    "        super().__init__(text)\n",
    "        self.vocab = set(self.tokens)\n",
    "        print('End init Vocabulary.__init__()')\n",
    "\n",
    "\n",
    "class TextDescriber(WordCounter, Vocabulary):\n",
    "    \"\"\"Describe text with multiple metrics\"\"\"\n",
    "    def __init__(self, text):\n",
    "        print('Start init TextDescriber.__init__()')\n",
    "        super().__init__(text)\n",
    "        print('End init TextDescriber.__init__()')\n",
    "\n",
    "\n",
    "td = TextDescriber('row row row your boat')\n",
    "print('--------')\n",
    "print(td.tokens)\n",
    "print(td.vocab)\n",
    "print(td.word_count)"
   ]
  },
  {
   "cell_type": "code",
   "execution_count": null,
   "id": "cb1911d3-e0fe-40f9-8280-57f416bcde1c",
   "metadata": {},
   "outputs": [],
   "source": [
    "#19. Discuss the concept of \"is-a\" and \"has-a\" relationships in inheritance, and provide examples of each.\n",
    "'''\n",
    "IS-A Relationship:\n",
    "\n",
    "In object-oriented programming, the concept of IS-A is a totally based on Inheritance, which can be of \n",
    "two types Class Inheritance or Interface Inheritance. It is just like saying \"A is a B type of thing\". \n",
    "For example, Apple is a Fruit, Car is a Vehicle etc. Inheritance is uni-directional. For example, \n",
    "House is a Building. But Building is not a House.\n",
    "\n",
    "\n",
    "HAS-A Relationship: \n",
    "\n",
    "Composition(HAS-A) simply mean the use of instance variables that are references to other objects. \n",
    "For example Maruti has Engine, or House has Bathroom.\n",
    "\n",
    "'''"
   ]
  },
  {
   "cell_type": "code",
   "execution_count": 145,
   "id": "14fa1d3a-c9e9-4425-9335-617765109faa",
   "metadata": {},
   "outputs": [],
   "source": [
    "#20. Create a Python class hierarchy for a university system. Start with a base class `Person` and \n",
    "#    create child classes `Student` and `Professor`, each with their own attributes and methods. \n",
    "#    Provide an example of using these classes in a university context.\n",
    "\n",
    "class person:\n",
    "    \n",
    "    def __init__(self,name):\n",
    "        self.name = \"vikas\"\n",
    "        \n",
    "class student(person):\n",
    "    \n",
    "    def person_name(self,name):\n",
    "        super().__init__(name)\n",
    "        print(\"personname is : \", self.name)\n",
    "    \n",
    "class professor(person):\n",
    "    \n",
    "    def person_name(self,name):\n",
    "        self.name = super().__init__(self.name)\n",
    "        print(\"person name is : \", self.name)\n",
    "    \n",
    "    "
   ]
  },
  {
   "cell_type": "code",
   "execution_count": 146,
   "id": "e0f650e7-b4fb-44d4-9118-fba2e5fe1f81",
   "metadata": {},
   "outputs": [],
   "source": [
    "obj_student =student(\"vikas\")\n"
   ]
  },
  {
   "cell_type": "code",
   "execution_count": 149,
   "id": "3a7c52cc-18a0-4c57-9f8f-207a972d00b0",
   "metadata": {},
   "outputs": [
    {
     "name": "stdout",
     "output_type": "stream",
     "text": [
      "personname is :  vikas\n"
     ]
    }
   ],
   "source": [
    "obj_student.person_name(\"vikas\")"
   ]
  },
  {
   "cell_type": "code",
   "execution_count": null,
   "id": "fe18bd2e-1be3-49c2-9a32-da061c2a0147",
   "metadata": {},
   "outputs": [],
   "source": []
  },
  {
   "cell_type": "code",
   "execution_count": 2,
   "id": "9be332c7-5804-473b-bb53-d69a7262673a",
   "metadata": {},
   "outputs": [
    {
     "data": {
      "text/plain": [
       "'\\nEncapsulation is one of the fundamental concepts in object-oriented programming (OOP). It describes the \\nidea of wrapping data and the methods that work on data within one unit. This puts restrictions on \\naccessing variables and methods directly and can prevent the accidental modification of data.\\n'"
      ]
     },
     "execution_count": 2,
     "metadata": {},
     "output_type": "execute_result"
    }
   ],
   "source": [
    "#Encapsulation ➖\n",
    "#1. Explain the concept of encapsulation in Python. What is its role in object-oriented programming?\n",
    "\n",
    "'''\n",
    "Encapsulation is one of the fundamental concepts in object-oriented programming (OOP). It describes the \n",
    "idea of wrapping data and the methods that work on data within one unit. This puts restrictions on \n",
    "accessing variables and methods directly and can prevent the accidental modification of data.\n",
    "'''"
   ]
  },
  {
   "cell_type": "code",
   "execution_count": null,
   "id": "26dc74bf-cd27-4592-8453-09fdffdc5385",
   "metadata": {},
   "outputs": [],
   "source": [
    "#2. Describe the key principles of encapsulation, including access control and data hiding.\n",
    "\n",
    "'''\n",
    "Encapsulation is a way to restrict the direct access to some components of an object, so users cannot \n",
    "access state values for all of the variables of a particular object. Encapsulation can be used to hide \n",
    "both data members and data functions or methods associated with an instantiated class or object.\n",
    "'''"
   ]
  },
  {
   "cell_type": "code",
   "execution_count": 7,
   "id": "04d854b7-ae56-4d15-8627-d7a4d8919131",
   "metadata": {},
   "outputs": [],
   "source": [
    "#3. How can you achieve encapsulation in Python classes? Provide an example.\n",
    "\n",
    "class bank:\n",
    "    # balance is protected variable.\n",
    "\n",
    "    def __init__(self, acct_no , balance):\n",
    "        self.acct_no = acct_no\n",
    "        self.__balance = balance\n",
    "  \n",
    "   # call balance variable through check_balance function. balance information has been stored in \n",
    "   # constructor and show through this function.\n",
    "    def check_balance(self,password):\n",
    "        if password == 'abc':\n",
    "            return self.__balance\n",
    "        else :\n",
    "            print(\"No Password\")\n",
    "            "
   ]
  },
  {
   "cell_type": "code",
   "execution_count": 8,
   "id": "58f566ae-0ecc-4aa5-ba8c-bc63fd89ea38",
   "metadata": {},
   "outputs": [],
   "source": [
    "obj_1 = bank(1234,4000)"
   ]
  },
  {
   "cell_type": "code",
   "execution_count": 12,
   "id": "905e4bf2-f0c1-4b4e-9703-a12091b1a90a",
   "metadata": {},
   "outputs": [
    {
     "data": {
      "text/plain": [
       "4000"
      ]
     },
     "execution_count": 12,
     "metadata": {},
     "output_type": "execute_result"
    }
   ],
   "source": [
    "obj_1.check_balance('abc')\n"
   ]
  },
  {
   "cell_type": "code",
   "execution_count": 13,
   "id": "bb152dbf-d371-4240-be34-9212b57109d5",
   "metadata": {},
   "outputs": [
    {
     "data": {
      "text/plain": [
       "'\\nPublic:- Public variable/objects/methods can be access from anywhere in program through out any of class\\n         or function.\\n\\nprivate:- protected data attributes should only be accessed inside the class environment and can also be \\n          accessed inside the sub-classes\\n\\nProtected:- private data attributes are only accessible inside the class.\\n'"
      ]
     },
     "execution_count": 13,
     "metadata": {},
     "output_type": "execute_result"
    }
   ],
   "source": [
    "#4. Discuss the difference between public, private, and protected access modifiers in Python.\n",
    "\n",
    "'''\n",
    "Public:- Public variable/objects/methods can be access from anywhere in program through out any of class\n",
    "         or function.\n",
    "\n",
    "private:- protected data attributes should only be accessed inside the class environment and can also be \n",
    "          accessed inside the sub-classes\n",
    "\n",
    "Protected:- private data attributes are only accessible inside the class.\n",
    "'''"
   ]
  },
  {
   "cell_type": "code",
   "execution_count": 20,
   "id": "f0738a88-bc98-4774-93d8-d48e3512f9fd",
   "metadata": {},
   "outputs": [],
   "source": [
    "#5. Create a Python class called `Person` with a private attribute `__name`. Provide methods to get and \n",
    "#   set the name attribute.\n",
    "\n",
    "\n",
    "class person:\n",
    "    \n",
    "    def __init__(self, __name):\n",
    "        self.__name = __name\n",
    "        \n",
    "    def get_name(self):\n",
    "        print(\"The name of the person is :\" , self.__name)\n",
    "        \n",
    "    def set_name(self):\n",
    "        name = input(\"please update the name : \") \n",
    "        self.__name = name\n",
    "        "
   ]
  },
  {
   "cell_type": "code",
   "execution_count": 21,
   "id": "fcc165ca-87f2-46c6-af1f-646a1e32ae97",
   "metadata": {},
   "outputs": [],
   "source": [
    "obj_person = person('vikas')"
   ]
  },
  {
   "cell_type": "code",
   "execution_count": 24,
   "id": "ae6caabe-86eb-4064-81ad-6db943ec34f2",
   "metadata": {},
   "outputs": [
    {
     "name": "stdout",
     "output_type": "stream",
     "text": [
      "The name of the person is : ram\n"
     ]
    }
   ],
   "source": [
    "obj_person.get_name()"
   ]
  },
  {
   "cell_type": "code",
   "execution_count": 23,
   "id": "28241d5d-99da-4933-9b4d-c4d802b8b3ac",
   "metadata": {},
   "outputs": [
    {
     "name": "stdin",
     "output_type": "stream",
     "text": [
      "please update the name :  ram\n"
     ]
    }
   ],
   "source": [
    "obj_person.set_name()\n"
   ]
  },
  {
   "cell_type": "code",
   "execution_count": 25,
   "id": "1f22237e-9d53-4085-8d48-12c4520a4df4",
   "metadata": {},
   "outputs": [
    {
     "data": {
      "text/plain": [
       "'\\nGetters and setters are used to protect your data, particularly when creating classes. For each instance \\nvariable, a getter method returns its value while a setter method sets or updates its value. Given this, \\ngetters and setters are also known as accessors and mutators, respectively.\\n'"
      ]
     },
     "execution_count": 25,
     "metadata": {},
     "output_type": "execute_result"
    }
   ],
   "source": [
    "#6. Explain the purpose of getter and setter methods in encapsulation. Provide examples\n",
    "'''\n",
    "Getters and setters are used to protect your data, particularly when creating classes. For each instance \n",
    "variable, a getter method returns its value while a setter method sets or updates its value. Given this, \n",
    "getters and setters are also known as accessors and mutators, respectively.\n",
    "'''"
   ]
  },
  {
   "cell_type": "code",
   "execution_count": 26,
   "id": "f650645e-95f6-4b7d-bf8f-97f3ac715d6d",
   "metadata": {},
   "outputs": [
    {
     "name": "stdout",
     "output_type": "stream",
     "text": [
      "['_Student__name', '__class__', '__delattr__', '__dict__', '__dir__', '__doc__', '__eq__', '__format__', '__ge__', '__getattribute__', '__gt__', '__hash__', '__init__', '__init_subclass__', '__le__', '__lt__', '__module__', '__ne__', '__new__', '__reduce__', '__reduce_ex__', '__repr__', '__setattr__', '__sizeof__', '__str__', '__subclasshook__', '__weakref__']\n"
     ]
    }
   ],
   "source": [
    "#7. What is name mangling in Python, and how does it affect encapsulation?\n",
    "'''\n",
    "In name mangling process any identifier with two leading underscore and one trailing underscore is \n",
    "textually replaced with _classname__identifier where classname is the name of the current class. \n",
    "It means that any identifier of the form.\n",
    "'''\n",
    "# Python program to demonstrate \n",
    "# name mangling \n",
    "\n",
    "class Student: \n",
    "\tdef __init__(self, name): \n",
    "\t\tself.__name = name \n",
    "\n",
    "        # used DIR method to check how the variable shown at backend.\n",
    "s1 = Student(\"Santhosh\") \n",
    "print(dir(s1)) \n"
   ]
  },
  {
   "cell_type": "code",
   "execution_count": 27,
   "id": "3f03a5af-acf1-488a-a3ab-c11f4a3c8571",
   "metadata": {},
   "outputs": [
    {
     "name": "stdout",
     "output_type": "stream",
     "text": [
      "Santhosh\n"
     ]
    }
   ],
   "source": [
    "# mangling method to access the porivate variable.\n",
    "print(s1._Student__name)"
   ]
  },
  {
   "cell_type": "code",
   "execution_count": 31,
   "id": "c1b62e28-db3a-4910-9128-fe169cd3a554",
   "metadata": {},
   "outputs": [],
   "source": [
    "#8. Create a Python class called `BankAccount` with private attributes for the account balance (`__balance`)\n",
    "#   and account number (`__account_number`). Provide methods for depositing and withdrawing money.\n",
    "\n",
    "class bankaccount:\n",
    "    \n",
    "    def __init__(self, __balance,__account_number):\n",
    "        self.__balance = __balance\n",
    "        self.__account_number = __account_number\n",
    "        \n",
    "    def deposting_money(self):\n",
    "        deposite = int(input(\"Enter the amount to deposite: \"))\n",
    "        self.__balance = self.__balance + deposite\n",
    "    \n",
    "    def withdrawing_money(self):\n",
    "        withdraw = int(input(\"Enter the amount to withdraw: \"))\n",
    "        self.__balance = self.__balance - withdraw\n",
    "        \n",
    "    def check_balance(self):\n",
    "        print(\" Your bank balance is : \" ,  self.__balance)\n",
    "              \n",
    "    \n",
    "        "
   ]
  },
  {
   "cell_type": "code",
   "execution_count": 33,
   "id": "1e759253-cff7-481c-ac88-a27189d1faa9",
   "metadata": {},
   "outputs": [],
   "source": [
    "vikas = bankaccount(2000,101)"
   ]
  },
  {
   "cell_type": "code",
   "execution_count": 38,
   "id": "8754cafd-29f3-436b-9c25-704f29ae2a6b",
   "metadata": {},
   "outputs": [
    {
     "name": "stdout",
     "output_type": "stream",
     "text": [
      " Your bank balance is :  2500\n"
     ]
    }
   ],
   "source": [
    "vikas.check_balance()"
   ]
  },
  {
   "cell_type": "code",
   "execution_count": 35,
   "id": "31123c04-78f7-42f8-9bdd-eb754bbdc4eb",
   "metadata": {},
   "outputs": [
    {
     "name": "stdin",
     "output_type": "stream",
     "text": [
      "Enter the amount to deposite:  1000\n"
     ]
    }
   ],
   "source": [
    "vikas.deposting_money()"
   ]
  },
  {
   "cell_type": "code",
   "execution_count": 37,
   "id": "fdc12fd4-d71f-49af-9a2e-5048dc8e71e1",
   "metadata": {},
   "outputs": [
    {
     "name": "stdin",
     "output_type": "stream",
     "text": [
      "Enter the amount to withdraw:  500\n"
     ]
    }
   ],
   "source": [
    "vikas.withdrawing_money()"
   ]
  },
  {
   "cell_type": "code",
   "execution_count": 39,
   "id": "bee18b17-7844-4143-899c-abdd442a19d9",
   "metadata": {},
   "outputs": [
    {
     "data": {
      "text/plain": [
       "'\\nBenefits of encapsulation programming\\n\\nThese include: Hiding data: Users will have no idea how classes are being implemented or stored. All \\nthat users will know is that values are being passed and initialized. More flexibility: Enables you to \\nset variables as read or write-only.\\n'"
      ]
     },
     "execution_count": 39,
     "metadata": {},
     "output_type": "execute_result"
    }
   ],
   "source": [
    "#9. Discuss the advantages of encapsulation in terms of code maintainability and security.\n",
    "\n",
    "'''\n",
    "Benefits of encapsulation programming\n",
    "\n",
    "These include: Hiding data: Users will have no idea how classes are being implemented or stored. All \n",
    "that users will know is that values are being passed and initialized. More flexibility: Enables you to \n",
    "set variables as read or write-only.\n",
    "'''\n"
   ]
  },
  {
   "cell_type": "code",
   "execution_count": 40,
   "id": "52fa3586-d48b-4af2-ad3d-85c67b191915",
   "metadata": {},
   "outputs": [
    {
     "name": "stdout",
     "output_type": "stream",
     "text": [
      "Santhosh\n"
     ]
    }
   ],
   "source": [
    "#10. How can you access private attributes in Python? Provide an example demonstrating the use of name \n",
    "#    mangling.\n",
    "'''\n",
    "In name mangling process any identifier with two leading underscore and one trailing underscore is \n",
    "textually replaced with _classname__identifier where classname is the name of the current class. \n",
    "It means that any identifier of the form.\n",
    "'''\n",
    "# Python program to demonstrate \n",
    "# name mangling \n",
    "\n",
    "class Student: \n",
    "\tdef __init__(self, name): \n",
    "\t\tself.__name = name \n",
    "\n",
    "        # used DIR method to check how the variable shown at backend.\n",
    "s1 = Student(\"Santhosh\") \n",
    "\n",
    "#mangling process to get info of private variable.\n",
    "print(s1._Student__name)\n"
   ]
  },
  {
   "cell_type": "code",
   "execution_count": 135,
   "id": "f8568509-23e2-41c2-bc36-027689955d99",
   "metadata": {},
   "outputs": [],
   "source": [
    "#11. Create a Python class hierarchy for a school system, including classes for students, teachers, \n",
    "#    and courses, and implement encapsulation principles to protect sensitive information.\n",
    "\n",
    "class students:\n",
    "    def __init__(self,student_name,roll_no,__address):\n",
    "        self.student_name  = 'vikas'\n",
    "        self.roll_no   = 101\n",
    "        self.__address   = 'New Delhi' \n",
    "    \n",
    "class teachers(students):\n",
    "    \n",
    "    def __init__(self,tname,tsub,student_name,roll_no,__address):\n",
    "        self.tname = tname\n",
    "        self.tsub = tsub\n",
    "        super().__init__(student_name,roll_no,__address) \n",
    "        \n",
    "    def student_info(self):\n",
    "        print(f' student name {self.student_name} , student roll no {self.roll_no} and student address {self._students__address}')\n",
    "        \n",
    "\n",
    "class courses(teachers):\n",
    "    \n",
    "    def __init__(self,tname,tsub,student_name,roll_no,__address):\n",
    "        super().__init__(tname,tsub,student_name,roll_no,__address)\n",
    "        \n",
    "    def sub_teacher(self,):\n",
    "        print(f' teacher name : {self.tname} , subject name is : {self.tsub} ')\n",
    "    "
   ]
  },
  {
   "cell_type": "code",
   "execution_count": 136,
   "id": "5749658b-3ee8-4df1-a607-173ce67abf20",
   "metadata": {},
   "outputs": [],
   "source": [
    "obj_teacher = teachers('ram','hindi',1 ,1 ,1)\n"
   ]
  },
  {
   "cell_type": "code",
   "execution_count": 137,
   "id": "8db36502-b448-4826-bb95-4e244fa8f6dc",
   "metadata": {},
   "outputs": [
    {
     "name": "stdout",
     "output_type": "stream",
     "text": [
      " student name vikas , student roll no 101 and student address New Delhi\n"
     ]
    }
   ],
   "source": [
    "obj_teacher.student_info()"
   ]
  },
  {
   "cell_type": "code",
   "execution_count": 138,
   "id": "60e65ca4-cbb7-491b-841b-fe014681b055",
   "metadata": {},
   "outputs": [],
   "source": [
    "obj_courses = courses('ram','hindi',1 ,1 ,1)\n"
   ]
  },
  {
   "cell_type": "code",
   "execution_count": 140,
   "id": "ad2a4e7f-fd2f-49b1-bd17-3524a6eed557",
   "metadata": {},
   "outputs": [
    {
     "name": "stdout",
     "output_type": "stream",
     "text": [
      " teacher name : ram , subject name is : hindi \n"
     ]
    }
   ],
   "source": [
    "obj_courses.sub_teacher()"
   ]
  },
  {
   "cell_type": "code",
   "execution_count": 153,
   "id": "dc78a0ff-00b8-4b96-8bed-3811ce25b9e5",
   "metadata": {},
   "outputs": [
    {
     "name": "stdout",
     "output_type": "stream",
     "text": [
      "GeeksforGeeks\n"
     ]
    },
    {
     "ename": "AttributeError",
     "evalue": "'Portal' object has no attribute '_Portal__name'",
     "output_type": "error",
     "traceback": [
      "\u001b[0;31m---------------------------------------------------------------------------\u001b[0m",
      "\u001b[0;31mAttributeError\u001b[0m                            Traceback (most recent call last)",
      "Cell \u001b[0;32mIn[153], line 49\u001b[0m\n\u001b[1;32m     45\u001b[0m \u001b[38;5;28;01mdel\u001b[39;00m p\u001b[38;5;241m.\u001b[39mname\n\u001b[1;32m     47\u001b[0m \u001b[38;5;66;03m# As name is deleted above this \u001b[39;00m\n\u001b[1;32m     48\u001b[0m \u001b[38;5;66;03m# will throw an error\u001b[39;00m\n\u001b[0;32m---> 49\u001b[0m \u001b[38;5;28mprint\u001b[39m (\u001b[43mp\u001b[49m\u001b[38;5;241;43m.\u001b[39;49m\u001b[43mname\u001b[49m)\n",
      "Cell \u001b[0;32mIn[153], line 23\u001b[0m, in \u001b[0;36mPortal.name\u001b[0;34m(self)\u001b[0m\n\u001b[1;32m     19\u001b[0m \u001b[38;5;129m@property\u001b[39m\n\u001b[1;32m     20\u001b[0m \n\u001b[1;32m     21\u001b[0m \u001b[38;5;66;03m# Getter method\u001b[39;00m\n\u001b[1;32m     22\u001b[0m \u001b[38;5;28;01mdef\u001b[39;00m \u001b[38;5;21mname\u001b[39m(\u001b[38;5;28mself\u001b[39m):\n\u001b[0;32m---> 23\u001b[0m \t\u001b[38;5;28;01mreturn\u001b[39;00m \u001b[38;5;28;43mself\u001b[39;49m\u001b[38;5;241;43m.\u001b[39;49m\u001b[43m__name\u001b[49m\n",
      "\u001b[0;31mAttributeError\u001b[0m: 'Portal' object has no attribute '_Portal__name'"
     ]
    }
   ],
   "source": [
    "#12. Explain the concept of property decorators in Python and how they relate to encapsulation.\n",
    "\n",
    "'''\n",
    "@property decorator is a built-in decorator in Python which is helpful in defining the properties \n",
    "effortlessly without manually calling the inbuilt function property(). Which is used to return the \n",
    "property attributes of a class from the stated getter, setter and deleter as parameters\n",
    "'''\n",
    "# Python program to illustrate the use of\n",
    "# @property decorator\n",
    "\n",
    "# Defining class\n",
    "class Portal:\n",
    "\n",
    "\t# Defining __init__ method\n",
    "\tdef __init__(self):\n",
    "\t\tself.__name =''\n",
    "\t\n",
    "\t# Using @property decorator\n",
    "\t@property\n",
    "\t\n",
    "\t# Getter method\n",
    "\tdef name(self):\n",
    "\t\treturn self.__name\n",
    "\t\n",
    "\t# Setter method\n",
    "\t@name.setter\n",
    "\tdef name(self, val):\n",
    "\t\tself.__name = val\n",
    "\n",
    "\t# Deleter method\n",
    "\t@name.deleter\n",
    "\tdef name(self):\n",
    "\t    del self.__name\n",
    "\n",
    "# Creating object\n",
    "p = Portal();\n",
    "\n",
    "# Setting name\n",
    "p.name = 'GeeksforGeeks'\n",
    "\n",
    "# Prints name\n",
    "print (p.name)\n",
    "\n",
    "# Deletes name\n",
    "del p.name\n",
    "\n",
    "# As name is deleted above this \n",
    "# will throw an error\n",
    "print (p.name)\n"
   ]
  },
  {
   "cell_type": "code",
   "execution_count": 154,
   "id": "8dcae228-ebc2-4235-b959-7ab15b4343bf",
   "metadata": {},
   "outputs": [
    {
     "name": "stdout",
     "output_type": "stream",
     "text": [
      "1\n",
      "2\n"
     ]
    },
    {
     "ename": "AttributeError",
     "evalue": "'Solution' object has no attribute '__privateCount'",
     "output_type": "error",
     "traceback": [
      "\u001b[0;31m---------------------------------------------------------------------------\u001b[0m",
      "\u001b[0;31mAttributeError\u001b[0m                            Traceback (most recent call last)",
      "Cell \u001b[0;32mIn[154], line 21\u001b[0m\n\u001b[1;32m     17\u001b[0m count\u001b[38;5;241m.\u001b[39msum()\n\u001b[1;32m     19\u001b[0m \u001b[38;5;66;03m# Here it will show error because it unable\u001b[39;00m\n\u001b[1;32m     20\u001b[0m \u001b[38;5;66;03m# to access private member\u001b[39;00m\n\u001b[0;32m---> 21\u001b[0m \u001b[38;5;28mprint\u001b[39m(\u001b[43mcount\u001b[49m\u001b[38;5;241;43m.\u001b[39;49m\u001b[43m__privateCount\u001b[49m)\n",
      "\u001b[0;31mAttributeError\u001b[0m: 'Solution' object has no attribute '__privateCount'"
     ]
    }
   ],
   "source": [
    "#13. What is data hiding, and why is it important in encapsulation? Provide examples.\n",
    "'''\n",
    "Data hiding means hiding the internal data within the class to prevent its direct access from outside the \n",
    "class. If we talk about data encapsulation so, Data encapsulation hides the private methods and class \n",
    "data parts, whereas Data hiding only hides class data components.\n",
    "'''\n",
    "class Solution:\n",
    "\t__privateCounter = 0\n",
    "\n",
    "\tdef sum(self):\n",
    "\t\tself.__privateCounter += 1\n",
    "\t\tprint(self.__privateCounter)\n",
    "\n",
    "\n",
    "count = Solution()\n",
    "count.sum()\n",
    "count.sum()\n",
    "\n",
    "# Here it will show error because it unable\n",
    "# to access private member\n",
    "print(count.__privateCount)\n"
   ]
  },
  {
   "cell_type": "code",
   "execution_count": 156,
   "id": "b70d95aa-9071-4e05-a51a-52332421047e",
   "metadata": {},
   "outputs": [],
   "source": [
    "#14. Create a Python class called `Employee` with private attributes for salary (`__salary`) and \n",
    "#    employee ID (`__employee_id`). Provide a method to calculate yearly bonuses.\n",
    "\n",
    "class employee:\n",
    "    \n",
    "    def __init__(self,__sal,__empid):\n",
    "        self.__sal = 50000\n",
    "        self.__empid = 101\n",
    "    \n",
    "    def cal_bonus(self,__sal,__empid):\n",
    "        \n",
    "        bonus = self.__sal * .01\n",
    "        print(f' employid is :: {self.__empid} employ salary :: {self.__sal} :: employ bonus :: {bonus} ')"
   ]
  },
  {
   "cell_type": "code",
   "execution_count": 158,
   "id": "2eda4c4a-7eca-4cb7-a578-004b3ccc9922",
   "metadata": {},
   "outputs": [],
   "source": [
    "obj_emp = employee(1,1)"
   ]
  },
  {
   "cell_type": "code",
   "execution_count": 160,
   "id": "dbc7473c-c8cd-4625-89f1-e80b4f3871e8",
   "metadata": {},
   "outputs": [
    {
     "name": "stdout",
     "output_type": "stream",
     "text": [
      " employid is :: 101 employ salary :: 50000 :: employ bonus :: 500.0 \n"
     ]
    }
   ],
   "source": [
    "obj_emp.cal_bonus(1,1)"
   ]
  },
  {
   "cell_type": "code",
   "execution_count": 161,
   "id": "2c321f45-7ee8-498d-a614-d821bb589efd",
   "metadata": {},
   "outputs": [
    {
     "name": "stdout",
     "output_type": "stream",
     "text": [
      "Jane\n"
     ]
    }
   ],
   "source": [
    "#15. Discuss the use of accessors and mutators in encapsulation. How do they help maintain control over \n",
    "#    attribute access?\n",
    "\n",
    "'''\n",
    "Accessor and Mutator methods:- \n",
    "\n",
    "Accessor Method: This method is used to access the state of the object i.e, the data hidden in the object \n",
    "can be accessed from this method. \n",
    "\n",
    "Mutator Method: This method is used to mutate/modify the state of an object i.e, it alters the hidden \n",
    "value of the data variable.\n",
    "'''\n",
    "\n",
    "class Person:\n",
    "   def __init__(self, name):\n",
    "      self.__name = name\n",
    "\n",
    "   @property\n",
    "   def name(self):\n",
    "      return self.__name\n",
    "\n",
    "   @name.setter\n",
    "   def name(self, value):\n",
    "      self.__name = value\n",
    "\n",
    "person = Person(\"John\")\n",
    "person.name = \"Jane\"\n",
    "print(person.name)  "
   ]
  },
  {
   "cell_type": "code",
   "execution_count": 162,
   "id": "822126b8-7058-4f56-b9b6-58e328428cab",
   "metadata": {},
   "outputs": [
    {
     "data": {
      "text/plain": [
       "'\\nCode Size:The length of the code increases drastically in the case of encapsulation as we need to provide \\nall the methods with the specifiers.\\n\\nMore Instructions: As the size of the code increases, therefore, you need to provide additional \\ninstructions for every method.\\n\\nIncreased code execution: Encapsulation results in an increase in the duration of the program execution. \\nIt is because more instructions are added to the code therefore they require more time to execute.\\n\\n'"
      ]
     },
     "execution_count": 162,
     "metadata": {},
     "output_type": "execute_result"
    }
   ],
   "source": [
    "#16. What are the potential drawbacks or disadvantages of using encapsulation in Python?\n",
    "\n",
    "'''\n",
    "Code Size:The length of the code increases drastically in the case of encapsulation as we need to provide \n",
    "all the methods with the specifiers.\n",
    "\n",
    "More Instructions: As the size of the code increases, therefore, you need to provide additional \n",
    "instructions for every method.\n",
    "\n",
    "Increased code execution: Encapsulation results in an increase in the duration of the program execution. \n",
    "It is because more instructions are added to the code therefore they require more time to execute.\n",
    "\n",
    "'''"
   ]
  },
  {
   "cell_type": "code",
   "execution_count": 170,
   "id": "321f27c8-64f5-4633-9f3b-1412a8d47edb",
   "metadata": {},
   "outputs": [],
   "source": [
    "#17. Create a Python class for a library system that encapsulates book information, including titles, \n",
    "#    authors, and availability status.\n",
    "\n",
    "class library:\n",
    "    \n",
    "    def __init__(self,__book,title,author):\n",
    "        self.__book = __book\n",
    "        self.title = title\n",
    "        self.author = author\n",
    "        \n",
    "    def availabilty_status(self):\n",
    "        book = input('please enter the book name : ' )\n",
    "        if book == self.__book:\n",
    "            print(\"Book is available in store\")\n",
    "            print(f' book name is : {self.__book} , book title is : {self.title} , author name : {self.author} ')\n",
    "        else:\n",
    "            print(\"Book is not available\")\n",
    "            "
   ]
  },
  {
   "cell_type": "code",
   "execution_count": 171,
   "id": "da9a0b5b-ad66-448e-bd64-4c7146abe473",
   "metadata": {},
   "outputs": [],
   "source": [
    "obj_lib = library('math', 'probablity' , 'R.S.') "
   ]
  },
  {
   "cell_type": "code",
   "execution_count": 174,
   "id": "8a84d015-e96f-4e22-8d6d-38ee834fd8a0",
   "metadata": {},
   "outputs": [
    {
     "name": "stdin",
     "output_type": "stream",
     "text": [
      "please enter the book name :  math\n"
     ]
    },
    {
     "name": "stdout",
     "output_type": "stream",
     "text": [
      "Book is available in store\n",
      " book name is : math , book title is : probablity , author name : R.S. \n"
     ]
    }
   ],
   "source": [
    "obj_lib.availabilty_status()"
   ]
  },
  {
   "cell_type": "code",
   "execution_count": 175,
   "id": "19b2dbd2-05ce-4dca-91fd-bc28674878bf",
   "metadata": {},
   "outputs": [],
   "source": [
    "#18. Explain how encapsulation enhances code reusability and modularity in Python programs.\n",
    "\n",
    "'''\n",
    "Encapsulation promotes modularity by encapsulating the data and methods related to a specific object \n",
    "within a class. This modularity has several advantages in Python: \n",
    "Organization: Encapsulation allows you to group related data and methods together, making your Python \n",
    "code more organized and easier to understand.\n",
    "'''"
   ]
  },
  {
   "cell_type": "code",
   "execution_count": null,
   "id": "71c08a91-8199-409f-9777-52bce64fdb99",
   "metadata": {},
   "outputs": [],
   "source": [
    "#19. Describe the concept of information hiding in encapsulation. Why is it essential in software \n",
    "#    development?\n",
    "\n",
    "'''\n",
    "By definition, encapsulation describes bundling data and methods that work on that data within one unit, \n",
    "like a class in Java. We often use this concept to hide an object's internal representation or state \n",
    "from the outside. This is called information hiding. \n",
    "\n",
    "The general idea of this mechanism is simple.For example, you have an attribute that is not visible from \n",
    "the outside of an object. You bundle it with methods that provide read or write access. Encapsulation \n",
    "allows you to hide specific information and control access to the object’s internal state.\n",
    "'''\n"
   ]
  },
  {
   "cell_type": "code",
   "execution_count": 185,
   "id": "53eea7a1-426a-4736-b3da-b83310048d93",
   "metadata": {},
   "outputs": [],
   "source": [
    "#20. Create a Python class called `Customer` with private attributes for customer details like name, \n",
    "#    address, and contact information. Implement encapsulation to ensure data integrity and security.\n",
    "\n",
    "class customer:\n",
    "    \n",
    "    def __init__(self, __name,__address,__contact_info):\n",
    "        \n",
    "        self.__name = __name\n",
    "        self.__address = __address\n",
    "        self.__contact_info = __contact_info\n",
    "        \n",
    "    def display_info(self):\n",
    "        contact = int(input(\"enter the contact number\"))\n",
    "        if contact == self.__contact_info :\n",
    "            print(f' name is : {self.__name} , address : {self.__address} , contact_info : {self.__contact_info}')\n",
    "        "
   ]
  },
  {
   "cell_type": "code",
   "execution_count": 186,
   "id": "6f1812d7-e8d5-4764-83d2-d3c893c73025",
   "metadata": {},
   "outputs": [],
   "source": [
    "obj_customer = customer(\"vikas\",\"New Delhi\" , 101)"
   ]
  },
  {
   "cell_type": "code",
   "execution_count": 187,
   "id": "149a567b-d11a-4eeb-afa3-cc3f803db641",
   "metadata": {},
   "outputs": [
    {
     "name": "stdin",
     "output_type": "stream",
     "text": [
      "enter the contact number 101\n"
     ]
    },
    {
     "name": "stdout",
     "output_type": "stream",
     "text": [
      " name is : vikas , address : New Delhi , contact_info : 101\n"
     ]
    }
   ],
   "source": [
    "obj_customer.display_info()"
   ]
  },
  {
   "cell_type": "code",
   "execution_count": 188,
   "id": "abb94576-6ed8-40df-840a-0f3597bc5a47",
   "metadata": {},
   "outputs": [],
   "source": [
    "#Polymorphism:-\n",
    "#1. What is polymorphism in Python? Explain how it is related to object-oriented programming.\n",
    "'''\n",
    "The word \"polymorphism\" means \"many forms\", and in programming it refers to methods/functions/operators \n",
    "with the same name that can be executed on many objects or classes.\n",
    "\n",
    "'''"
   ]
  },
  {
   "cell_type": "code",
   "execution_count": null,
   "id": "cea8d41b-3bd6-400b-8494-9d3b2ba9a8d1",
   "metadata": {},
   "outputs": [],
   "source": [
    "#2. Describe the difference between compile-time polymorphism and runtime polymorphism in Python.\n",
    "\n",
    "'''\n",
    "Polymorphism is classified into two types: compile-time polymorphism and runtime polymorphism. \n",
    "\n",
    "Compile-time polymorphism is illustrated by method overloading, whereas \n",
    "runtime polymorphism is illustrated by method overriding.\n",
    "'''"
   ]
  },
  {
   "cell_type": "code",
   "execution_count": 27,
   "id": "7c247eb0-11b6-4c10-b7e1-14704f4ab6dd",
   "metadata": {},
   "outputs": [],
   "source": [
    "#3. Create a Python class hierarchy for shapes (e.g., circle, square, triangle) and demonstrate polymorphism \n",
    "#   through a common method, such as `calculate_area()`.\n",
    "\n",
    "class shapes:\n",
    "    def __init__(self):\n",
    "        pass\n",
    "        \n",
    "class circle(shapes):\n",
    "    \n",
    "    def calculate_area(self,r):\n",
    "        area = 3.14 * r**2\n",
    "        print(f' Circle Radius of {r} , has Area :: {area}')\n",
    "        \n",
    "        \n",
    "class square(shapes):\n",
    "    \n",
    "    def calculate_area(self,l):\n",
    "        area = l * l \n",
    "        print(f' squaare side of {l} , has Area :: {area}')\n",
    "    \n",
    "         \n",
    "class traingle(shapes):\n",
    "    \n",
    "    def calculate_area(self,l,b):\n",
    "        area = l * b \n",
    "        print(f' Traingle sides are : {l} and {b} , has Area :: {area}')\n",
    "        "
   ]
  },
  {
   "cell_type": "code",
   "execution_count": 28,
   "id": "9af44254-ae95-424f-bf93-a58c8d35729c",
   "metadata": {},
   "outputs": [],
   "source": [
    "obj_circle =circle()\n",
    "obj_square = square()\n",
    "obj_traingle = traingle()"
   ]
  },
  {
   "cell_type": "code",
   "execution_count": 29,
   "id": "bca9db6a-257d-4d6f-a3a8-d75edef9bf50",
   "metadata": {},
   "outputs": [
    {
     "name": "stdout",
     "output_type": "stream",
     "text": [
      " Circle Radius of 6 , has Area :: 113.04\n",
      " squaare side of 4 , has Area :: 16\n",
      " Traingle sides are : 4 and 5 , has Area :: 20\n"
     ]
    }
   ],
   "source": [
    "obj_circle.calculate_area(6)\n",
    "obj_square.calculate_area(4)\n",
    "obj_traingle.calculate_area(4,5)"
   ]
  },
  {
   "cell_type": "code",
   "execution_count": 30,
   "id": "e60f0e65-5066-43dc-9d01-cb5d72cbdb54",
   "metadata": {},
   "outputs": [
    {
     "name": "stdout",
     "output_type": "stream",
     "text": [
      "Details: Audi R8 Price: 9000000\n",
      "Car max speed is 260\n",
      "Car has Automatic Transmission\n",
      "Details: Nissan Magnite Price: 550000\n",
      "Vehicle max speed is 160\n",
      "Vehicle has 6 shifter gearbox\n"
     ]
    }
   ],
   "source": [
    "#4. Explain the concept of method overriding in polymorphism. Provide an example.\n",
    "'''\n",
    "You can achieve Runtime polymorphism via Method Overriding. Method Overriding is done when a child or a \n",
    "subclass has a method with the same name, parameters, and return type as the parent or the superclass; \n",
    "then that function overrides the function in the superclass\n",
    "'''\n",
    "class Vehicle:\n",
    "    def __init__(self, brand, model, price):\n",
    "        self.brand = brand\n",
    "        self.model = model\n",
    "        self.price = price\n",
    "\n",
    "    def show(self):\n",
    "        print('Details:', self.brand, self.model, 'Price:', self.price)\n",
    "\n",
    "    def max_speed(self):\n",
    "        print('Vehicle max speed is 160')\n",
    "\n",
    "    def gear_system(self):\n",
    "        print('Vehicle has 6 shifter gearbox')\n",
    "\n",
    "# inherit from vehicle class\n",
    "class Car(Vehicle):\n",
    "    def max_speed(self):\n",
    "        print('Car max speed is 260')\n",
    "\n",
    "    def gear_system(self):\n",
    "        print('Car has Automatic Transmission')\n",
    "\n",
    "# Car Object\n",
    "car = Car('Audi', 'R8', 9000000)\n",
    "car.show()\n",
    "# call methods from Car class\n",
    "car.max_speed()\n",
    "car.gear_system()\n",
    "\n",
    "# Vehicle Object\n",
    "vehicle = Vehicle('Nissan', 'Magnite', 550000)\n",
    "vehicle.show()\n",
    "# call method from a Vehicle class\n",
    "vehicle.max_speed()\n",
    "vehicle.gear_system()\n"
   ]
  },
  {
   "cell_type": "code",
   "execution_count": 31,
   "id": "e2ac705b-244f-4be6-8c4a-55476731b54e",
   "metadata": {},
   "outputs": [
    {
     "data": {
      "text/plain": [
       "'\\nPolymorphism is most commonly associated with inheritance. In Python, child classes, like other programming \\nlanguages, inherit methods and attributes from the parent class. Method Overriding is the process of \\nredefining certain methods and attributes to fit the child class.\\n'"
      ]
     },
     "execution_count": 31,
     "metadata": {},
     "output_type": "execute_result"
    }
   ],
   "source": [
    "#5. How is polymorphism different from method overloading in Python? Provide examples for both.\n",
    "\n",
    "'''\n",
    "Polymorphism is most commonly associated with inheritance. In Python, child classes, like other programming \n",
    "languages, inherit methods and attributes from the parent class. Method Overriding is the process of \n",
    "redefining certain methods and attributes to fit the child class.\n",
    "'''\n"
   ]
  },
  {
   "cell_type": "code",
   "execution_count": 32,
   "id": "b1896a39-4b13-4244-9bc6-0c2ffd86b9ba",
   "metadata": {},
   "outputs": [],
   "source": [
    "#6. Create a Python class called `Animal` with a method `speak()`. Then, create child classes like `Dog`, \n",
    "#   `Cat`, and `Bird`, each with their own `speak()` method. Demonstrate polymorphism by calling the\n",
    "#   `speak()` method on objects of different subclasses.\n",
    "\n",
    "class animal:\n",
    "    \n",
    "    def speak(self):\n",
    "        print(\"This is Animal class\")\n",
    "\n",
    "class dog(animal):\n",
    "    def speak(self):\n",
    "        print(\"this is dog class\")\n",
    "\n",
    "class cat(animal):\n",
    "    def speak(self):\n",
    "        print(\"this is cat class\")\n",
    "\n",
    "class bird(animal):\n",
    "    def speak(self):\n",
    "        print(\"this is bird class\")\n"
   ]
  },
  {
   "cell_type": "code",
   "execution_count": 34,
   "id": "30916c60-d1a3-41da-aac1-1e4d6ba6c424",
   "metadata": {},
   "outputs": [],
   "source": [
    "obj_animal = animal()\n",
    "obj_dog = dog()\n",
    "obj_cat = cat()\n",
    "obj_bird = bird()"
   ]
  },
  {
   "cell_type": "code",
   "execution_count": 35,
   "id": "02695234-4be7-42e3-bc8a-cb5bffaa5c1c",
   "metadata": {},
   "outputs": [
    {
     "name": "stdout",
     "output_type": "stream",
     "text": [
      "This is Animal class\n"
     ]
    }
   ],
   "source": [
    "obj_animal.speak()"
   ]
  },
  {
   "cell_type": "code",
   "execution_count": 38,
   "id": "f467c4c3-2c98-4a66-aeba-2a60f6d7aed0",
   "metadata": {},
   "outputs": [
    {
     "name": "stdout",
     "output_type": "stream",
     "text": [
      "this is dog class\n",
      "this is cat class\n",
      "this is bird class\n"
     ]
    }
   ],
   "source": [
    "obj_dog.speak()\n",
    "obj_cat.speak()\n",
    "obj_bird.speak()"
   ]
  },
  {
   "cell_type": "code",
   "execution_count": 39,
   "id": "10be85bb-62f0-4ee5-b06c-519aa0096a8e",
   "metadata": {},
   "outputs": [],
   "source": [
    "#7. Discuss the use of abstract methods and classes in achieving polymorphism in Python. Provide an example\n",
    "#   using the `abc` module.\n",
    "\n",
    "'''\n",
    "The collections module has some concrete classes that derive from ABCs; these can, of course, be further \n",
    "derived. In addition, the collections.abc submodule has some ABCs that can be used to test whether a class\n",
    "or instance provides a particular interface, for example, if it is hashable or if it is a mapping.\n",
    "'''\n",
    "\n",
    "from abc import ABC\n",
    "\n",
    "class MyABC(ABC):\n",
    "    pass"
   ]
  },
  {
   "cell_type": "code",
   "execution_count": 47,
   "id": "d2be2d03-cd75-438d-82e5-079316efef63",
   "metadata": {},
   "outputs": [],
   "source": [
    "#8. Create a Python class hierarchy for a vehicle system (e.g., car, bicycle, boat) and implement a \n",
    "#   polymorphic `start()` method that prints a message specific to each vehicle type.\n",
    "\n",
    "class vehicle:\n",
    "    \n",
    "    def __init__(self,vtype,speed):\n",
    "        self.vtype = vtype\n",
    "        self.speed = speed\n",
    "        \n",
    "    def start(self):\n",
    "        print(f' Vechile info : {self.vtype} , {self.speed} ')\n",
    "        \n",
    "class car(vehicle):\n",
    "    pass\n",
    "\n",
    "class bicyle(vehicle):\n",
    "    pass\n",
    "\n",
    "class boat(vehicle):\n",
    "    pass\n",
    "   \n",
    "    \n",
    "    "
   ]
  },
  {
   "cell_type": "code",
   "execution_count": 50,
   "id": "320da3ac-1b2a-4cb5-9d71-ef0205c6eb05",
   "metadata": {},
   "outputs": [],
   "source": [
    "obj_car = car('maruti',120)\n",
    "obj_bicyle = bicyle('atlus',50)\n",
    "obj_boat = boat('airboat',220)"
   ]
  },
  {
   "cell_type": "code",
   "execution_count": 51,
   "id": "6c8f3bf2-a453-46ed-a3e9-5d8fd64b3d7e",
   "metadata": {},
   "outputs": [
    {
     "name": "stdout",
     "output_type": "stream",
     "text": [
      " Vechile info : maruti , 120 \n",
      " Vechile info : atlus , 50 \n",
      " Vechile info : airboat , 220 \n"
     ]
    }
   ],
   "source": [
    "obj_car.start()\n",
    "obj_bicyle.start()\n",
    "obj_boat.start()"
   ]
  },
  {
   "cell_type": "code",
   "execution_count": 52,
   "id": "d9133496-4b13-4262-8196-0d5350aee22e",
   "metadata": {},
   "outputs": [
    {
     "data": {
      "text/plain": [
       "'\\nThe function isinstance () checks whether the object that is passed in its parameters is the subclass \\nof the classinfo mentioned within the parameters. \\n\\nOn the other hand, the Python issubclass () function only checks whether a class is a subclass of a \\nsupposed parent class.\\n'"
      ]
     },
     "execution_count": 52,
     "metadata": {},
     "output_type": "execute_result"
    }
   ],
   "source": [
    "#9. Explain the significance of the `isinstance()` and `issubclass()` functions in Python polymorphism.\n",
    "\n",
    "'''\n",
    "The function isinstance () checks whether the object that is passed in its parameters is the subclass \n",
    "of the classinfo mentioned within the parameters. \n",
    "\n",
    "On the other hand, the Python issubclass () function only checks whether a class is a subclass of a \n",
    "supposed parent class.\n",
    "'''"
   ]
  },
  {
   "cell_type": "code",
   "execution_count": 53,
   "id": "d5a72082-5455-4adb-b9ce-e4fb4a1b2ca5",
   "metadata": {},
   "outputs": [
    {
     "name": "stdout",
     "output_type": "stream",
     "text": [
      "I have 3 sides\n",
      "I have 4 sides\n",
      "I have 5 sides\n",
      "I have 6 sides\n"
     ]
    }
   ],
   "source": [
    "#10. What is the role of the `@abstractmethod` decorator in achieving polymorphism in Python? Provide an \n",
    "#    example.\n",
    "\n",
    "'''\n",
    "A method becomes abstract when decorated with the keyword @abstractmethod. Example 1: This code defines an \n",
    "abstract base class called “Polygon” using the ABC (Abstract Base Class) module in Python. The “Polygon” \n",
    "class has an abstract method called “noofsides” that needs to be implemented by its subclasses.\n",
    "'''\n",
    "\n",
    "# Python program showing\n",
    "# abstract base class work\n",
    "from abc import ABC, abstractmethod\n",
    "\n",
    "\n",
    "class Polygon(ABC):\n",
    "\n",
    "\t@abstractmethod\n",
    "\tdef noofsides(self):\n",
    "\t\tpass\n",
    "\n",
    "\n",
    "class Triangle(Polygon):\n",
    "\n",
    "\t# overriding abstract method\n",
    "\tdef noofsides(self):\n",
    "\t\tprint(\"I have 3 sides\")\n",
    "\n",
    "\n",
    "class Pentagon(Polygon):\n",
    "\n",
    "\t# overriding abstract method\n",
    "\tdef noofsides(self):\n",
    "\t\tprint(\"I have 5 sides\")\n",
    "\n",
    "\n",
    "class Hexagon(Polygon):\n",
    "\n",
    "\t# overriding abstract method\n",
    "\tdef noofsides(self):\n",
    "\t\tprint(\"I have 6 sides\")\n",
    "\n",
    "\n",
    "class Quadrilateral(Polygon):\n",
    "\n",
    "\t# overriding abstract method\n",
    "\tdef noofsides(self):\n",
    "\t\tprint(\"I have 4 sides\")\n",
    "\n",
    "\n",
    "# Driver code\n",
    "R = Triangle()\n",
    "R.noofsides()\n",
    "\n",
    "K = Quadrilateral()\n",
    "K.noofsides()\n",
    "\n",
    "R = Pentagon()\n",
    "R.noofsides()\n",
    "\n",
    "K = Hexagon()\n",
    "K.noofsides()\n"
   ]
  },
  {
   "cell_type": "code",
   "execution_count": 75,
   "id": "092a1d7f-ea3a-42ab-9f9a-363d75fe0e2b",
   "metadata": {},
   "outputs": [
    {
     "name": "stdout",
     "output_type": "stream",
     "text": [
      "3.0\n",
      "6\n",
      "28.26\n"
     ]
    }
   ],
   "source": [
    "#11. Create a Python class called `Shape` with a polymorphic method `area()` that calculates the area of \n",
    "#    different shapes (e.g., circle, rectangle, triangle).\n",
    "\n",
    "from abc import ABC, abstractmethod\n",
    "\n",
    "\n",
    "class shape(ABC):\n",
    "\n",
    "\t@abstractmethod\n",
    "\tdef area(self):\n",
    "\t\tpass\n",
    "\n",
    "class triangle(shape):\n",
    "    def area(self,l,b):\n",
    "        area1 = l * b * .5\n",
    "        print( area1)\n",
    "\n",
    "class rectangle(shape):\n",
    "    def area(self,l,b):\n",
    "        area1 = l * b \n",
    "        print( area1)\n",
    "\n",
    "class circle(shape):\n",
    "    def area(self,r):\n",
    "        area1 = 3.14 * r **2 \n",
    "        print ( area1)\n",
    "\n",
    "\n",
    "\n",
    "# Driver code\n",
    "T = triangle()\n",
    "T.area(2,3)\n",
    "\n",
    "R=rectangle()\n",
    "R.area(2,3)\n",
    "\n",
    "C = circle()\n",
    "C.area(3)\n",
    "\n",
    "\n",
    "\n",
    "\n",
    "\n"
   ]
  },
  {
   "cell_type": "code",
   "execution_count": 68,
   "id": "f129e865-662c-4488-a5dc-cca87c4d2645",
   "metadata": {},
   "outputs": [
    {
     "name": "stdout",
     "output_type": "stream",
     "text": [
      "Abstract Base Class\n",
      "subclass \n"
     ]
    }
   ],
   "source": [
    "#12. Discuss the benefits of polymorphism in terms of code reusability and flexibility in Python programs.\n",
    "\n",
    "'''\n",
    "Polymorphism in Python is an effective concept that has many advantages. \n",
    "It allows you to write code that is flexible and reusable. \n",
    "It also allows programmers to make code more efficient by avoiding repetitive code. \n",
    "Developers can use polymorphism to create functions or methods that can operate on various object types.\n",
    "'''\n"
   ]
  },
  {
   "cell_type": "code",
   "execution_count": 76,
   "id": "890b5904-f5ff-49da-a4ce-3e5a8cf1573a",
   "metadata": {},
   "outputs": [
    {
     "data": {
      "text/plain": [
       "'\\nsuper method is used to get/call objects from the parent class to child class.\\n'"
      ]
     },
     "execution_count": 76,
     "metadata": {},
     "output_type": "execute_result"
    }
   ],
   "source": [
    "#13. Explain the use of the `super()` function in Python polymorphism. How does it help call methods of \n",
    "#    parent classes?\n",
    "\n",
    "'''\n",
    "super method is used to get/call objects from the parent class to child class.\n",
    "'''"
   ]
  },
  {
   "cell_type": "code",
   "execution_count": 91,
   "id": "89c69116-09ed-4b8b-9729-9ba08ddaec67",
   "metadata": {},
   "outputs": [],
   "source": [
    "#14. Create a Python class hierarchy for a banking system with various account types (e.g., savings, checking,\n",
    "#    credit card) and demonstrate polymorphism by implementing a common `withdraw()` method.\n",
    "\n",
    "class bank:\n",
    "    \n",
    "    def __init__(self,acct_no,acct_type,balance):\n",
    "        self.acct_no = acct_no\n",
    "        self.acct_type = acct_type\n",
    "        self.balance   = balance\n",
    "        \n",
    "    \n",
    "    def withdraw(self):\n",
    "        print(f' Account details : {self.acct_no}  :: type : {self.acct_type} and balance is {self.balance} ')\n",
    "        acct_number = int(input(\"Please enter the account number :\"))\n",
    "        if self.acct_no == acct_number :\n",
    "            amount = int(input(\"Please enter the amount to withdraw\"))\n",
    "            self.balance = self.balance - amount\n",
    "            print(\"Your current balance is : \" , self.balance)\n",
    "            \n",
    "            \n",
    "class saving_acct(bank):\n",
    "    pass\n",
    "        \n",
    "class checking_acct(bank):\n",
    "    pass\n",
    "\n",
    "class credit_acct(bank):\n",
    "    pass\n",
    "    \n",
    "        "
   ]
  },
  {
   "cell_type": "code",
   "execution_count": 92,
   "id": "76ecc8cb-4b82-4b00-80ce-4457cd1e8bf3",
   "metadata": {},
   "outputs": [],
   "source": [
    "obj_saving = saving_acct(101,'saving',30000)\n",
    "obj_checking = checking_acct(102,'checking',10000)\n",
    "obj_credit = credit_acct(103,'credit',15000)"
   ]
  },
  {
   "cell_type": "code",
   "execution_count": 93,
   "id": "0882bf21-fcf4-43d4-b4bf-c49517f80109",
   "metadata": {},
   "outputs": [
    {
     "name": "stdout",
     "output_type": "stream",
     "text": [
      " Account details : 101  :: type : saving and balance is 30000 \n"
     ]
    },
    {
     "name": "stdin",
     "output_type": "stream",
     "text": [
      "Please enter the account number : 101\n",
      "Please enter the amount to withdraw 2000\n"
     ]
    },
    {
     "name": "stdout",
     "output_type": "stream",
     "text": [
      "Your current balance is :  28000\n"
     ]
    }
   ],
   "source": [
    "obj_saving.withdraw()"
   ]
  },
  {
   "cell_type": "code",
   "execution_count": 95,
   "id": "61f861f7-347d-446c-9c08-63938c5b194d",
   "metadata": {},
   "outputs": [
    {
     "data": {
      "text/plain": [
       "28000"
      ]
     },
     "execution_count": 95,
     "metadata": {},
     "output_type": "execute_result"
    }
   ],
   "source": [
    "obj_saving.balance\n"
   ]
  },
  {
   "cell_type": "code",
   "execution_count": 96,
   "id": "065536cd-1cae-4c33-8765-5f5d0fada47f",
   "metadata": {},
   "outputs": [
    {
     "name": "stdout",
     "output_type": "stream",
     "text": [
      " Account details : 102  :: type : checking and balance is 10000 \n"
     ]
    },
    {
     "name": "stdin",
     "output_type": "stream",
     "text": [
      "Please enter the account number : 102\n",
      "Please enter the amount to withdraw 1400\n"
     ]
    },
    {
     "name": "stdout",
     "output_type": "stream",
     "text": [
      "Your current balance is :  8600\n"
     ]
    }
   ],
   "source": [
    "obj_checking.withdraw()"
   ]
  },
  {
   "cell_type": "code",
   "execution_count": 97,
   "id": "a88e1df2-863e-44f3-9ebb-a031d0a8ac2a",
   "metadata": {},
   "outputs": [
    {
     "name": "stdout",
     "output_type": "stream",
     "text": [
      " Account details : 103  :: type : credit and balance is 15000 \n"
     ]
    },
    {
     "name": "stdin",
     "output_type": "stream",
     "text": [
      "Please enter the account number : 103\n",
      "Please enter the amount to withdraw 100\n"
     ]
    },
    {
     "name": "stdout",
     "output_type": "stream",
     "text": [
      "Your current balance is :  14900\n"
     ]
    }
   ],
   "source": [
    "obj_credit.withdraw()"
   ]
  },
  {
   "cell_type": "code",
   "execution_count": 98,
   "id": "a3ddf7d2-283c-4a3d-a927-4beaeee00923",
   "metadata": {},
   "outputs": [
    {
     "name": "stdout",
     "output_type": "stream",
     "text": [
      "3\n",
      "GeeksFor\n",
      "3\n",
      "GeeksFor\n",
      "3\n",
      "GeeksFor\n"
     ]
    }
   ],
   "source": [
    "#15. Describe the concept of operator overloading in Python and how it relates to polymorphism. \n",
    "#    Provide examples using operators like `+` and `*`.\n",
    "\n",
    "'''\n",
    "Operator Overloading means giving extended meaning beyond their predefined operational meaning. \n",
    "For example operator + is used to add two integers as well as join two strings and merge two lists. \n",
    "It is achievable because ‘+’ operator is overloaded by int class and str class. You might have noticed that\n",
    "the same built-in operator or function shows different behavior for objects of different classes, \n",
    "this is called Operator Overloading. \n",
    "'''\n",
    "\n",
    "# Python Program illustrate how \n",
    "# to overload an binary + operator\n",
    "# And how it actually works\n",
    "\n",
    "class A:\n",
    "\tdef __init__(self, a):\n",
    "\t\tself.a = a\n",
    "\n",
    "\t# adding two objects \n",
    "\tdef __add__(self, o):\n",
    "\t\treturn self.a + o.a \n",
    "ob1 = A(1)\n",
    "ob2 = A(2)\n",
    "ob3 = A(\"Geeks\")\n",
    "ob4 = A(\"For\")\n",
    "\n",
    "print(ob1 + ob2)\n",
    "print(ob3 + ob4)\n",
    "# Actual working when Binary Operator is used.\n",
    "print(A.__add__(ob1 , ob2)) \n",
    "print(A.__add__(ob3,ob4)) \n",
    "#And can also be Understand as :\n",
    "print(ob1.__add__(ob2))\n",
    "print(ob3.__add__(ob4))\n"
   ]
  },
  {
   "cell_type": "code",
   "execution_count": 99,
   "id": "c9827008-b385-4093-a0c2-f833387d607b",
   "metadata": {},
   "outputs": [
    {
     "name": "stdout",
     "output_type": "stream",
     "text": [
      "5\n",
      "9\n"
     ]
    }
   ],
   "source": [
    "#16. What is dynamic polymorphism, and how is it achieved in Python?\n",
    "'''\n",
    "Dynamic polymorphism is the most powerful feature of object oriented programming, which allows us to\n",
    "program against abstractions whose real behavior is only defined at run time.\n",
    "'''\n",
    "# A simple Python function to demonstrate \n",
    "# Polymorphism\n",
    "\n",
    "def add(x, y, z = 0): \n",
    "\treturn x + y+z\n",
    "\n",
    "# Driver code \n",
    "print(add(2, 3))\n",
    "print(add(2, 3, 4))\n"
   ]
  },
  {
   "cell_type": "code",
   "execution_count": 143,
   "id": "8ed7b8bc-1c1a-4466-a858-46ff9d604eb2",
   "metadata": {},
   "outputs": [],
   "source": [
    "#17. Create a Python class hierarchy for employees in a company (e.g., manager, developer, designer) \n",
    "#    and implement polymorphism through a common `calculate_salary()` method.\n",
    "\n",
    "class employee:\n",
    "    \n",
    "    def __init__(self,empl_id,post,basic_sal):\n",
    "        self.empl_id = empl_id\n",
    "        self.post =post\n",
    "        self.basic_sal = basic_sal\n",
    "        \n",
    "    def calculate_salary(self):\n",
    "        print(f' Details of employee : {self.empl_id} , position holds : {self.post} , basic sal : {self.basic_sal} ')\n",
    "        post1 = input(\"please enter your post : \")\n",
    "        if post1 == 'manager' :\n",
    "            PF = self.basic_sal * .14\n",
    "            flex_sal = self.basic_sal * .50\n",
    "            bonus  = self.basic_sal * .15\n",
    "            final_sal = self.basic_sal + PF + flex_sal + bonus\n",
    "            \n",
    "        elif post1 == 'developer' :\n",
    "            PF = self.basic_sal * .14\n",
    "            flex_sal = self.basic_sal * .50\n",
    "            bonus  = self.basic_sal * .13\n",
    "            final_sal = self.basic_sal + PF + flex_sal + bonus\n",
    "            \n",
    "        elif post1 == 'designer' :\n",
    "            PF = self.basic_sal * .14\n",
    "            flex_sal = self.basic_sal * .45\n",
    "            bonus  = self.basic_sal * .10\n",
    "            final_sal = self.basic_sal + PF + flex_sal + bonus  \n",
    "        print(\"Final Salary is  : \" , final_sal)  \n",
    "\n",
    "class manager(employee):\n",
    "    pass\n",
    "        \n",
    "class developer(employee):\n",
    "    pass\n",
    "        \n",
    "class designer(employee):\n",
    "    pass\n",
    "            \n",
    "            \n",
    "        "
   ]
  },
  {
   "cell_type": "code",
   "execution_count": 144,
   "id": "d501e769-a87f-490f-a2aa-9336b2226560",
   "metadata": {},
   "outputs": [],
   "source": [
    "obj_manager = manager(101,'manager', 20000)\n",
    "obj_developer = developer(101,'developer', 20000)\n",
    "obj_designer = designer(101,'designer', 20000)"
   ]
  },
  {
   "cell_type": "code",
   "execution_count": 146,
   "id": "ed41e538-027c-4d6a-a538-8201f8235b87",
   "metadata": {},
   "outputs": [
    {
     "name": "stdout",
     "output_type": "stream",
     "text": [
      " Details of employee : 101 , position holds : manager , basic sal : 20000 \n"
     ]
    },
    {
     "name": "stdin",
     "output_type": "stream",
     "text": [
      "please enter your post :  manager\n"
     ]
    },
    {
     "name": "stdout",
     "output_type": "stream",
     "text": [
      "Final Salary is  :  35800.0\n"
     ]
    }
   ],
   "source": [
    "obj_manager.calculate_salary()"
   ]
  },
  {
   "cell_type": "code",
   "execution_count": 147,
   "id": "000a50d2-c199-4451-b5c9-07d30e73e5e6",
   "metadata": {},
   "outputs": [
    {
     "name": "stdout",
     "output_type": "stream",
     "text": [
      " Details of employee : 101 , position holds : developer , basic sal : 20000 \n"
     ]
    },
    {
     "name": "stdin",
     "output_type": "stream",
     "text": [
      "please enter your post :  developer\n"
     ]
    },
    {
     "name": "stdout",
     "output_type": "stream",
     "text": [
      "Final Salary is  :  35400.0\n"
     ]
    }
   ],
   "source": [
    "obj_developer.calculate_salary()"
   ]
  },
  {
   "cell_type": "code",
   "execution_count": 148,
   "id": "038ae05a-1347-478c-805c-d6c38894cf3b",
   "metadata": {},
   "outputs": [
    {
     "name": "stdout",
     "output_type": "stream",
     "text": [
      " Details of employee : 101 , position holds : designer , basic sal : 20000 \n"
     ]
    },
    {
     "name": "stdin",
     "output_type": "stream",
     "text": [
      "please enter your post :  designer\n"
     ]
    },
    {
     "name": "stdout",
     "output_type": "stream",
     "text": [
      "Final Salary is  :  33800.0\n"
     ]
    }
   ],
   "source": [
    "obj_designer.calculate_salary()"
   ]
  },
  {
   "cell_type": "code",
   "execution_count": 149,
   "id": "9fb91b95-2209-4f22-a197-97bf6955ea8a",
   "metadata": {},
   "outputs": [
    {
     "ename": "SyntaxError",
     "evalue": "Missing parentheses in call to 'print'. Did you mean print(...)? (4099335683.py, line 24)",
     "output_type": "error",
     "traceback": [
      "\u001b[0;36m  Cell \u001b[0;32mIn[149], line 24\u001b[0;36m\u001b[0m\n\u001b[0;31m    print 'hi'\u001b[0m\n\u001b[0m    ^\u001b[0m\n\u001b[0;31mSyntaxError\u001b[0m\u001b[0;31m:\u001b[0m Missing parentheses in call to 'print'. Did you mean print(...)?\n"
     ]
    }
   ],
   "source": [
    "#18. Discuss the concept of function pointers and how they can be used to achieve polymorphism in Python.\n",
    "\n",
    "class Base(object):\n",
    "    def f(self):\n",
    "        return self._f()\n",
    "\n",
    "    def _f(self):\n",
    "        pass\n",
    "\n",
    "    def g(self):\n",
    "        return self._g()\n",
    "\n",
    "    def _g(self):\n",
    "        pass\n",
    "\n",
    "    FXN = {\n",
    "        1 : f,\n",
    "        2 : g\n",
    "    }\n",
    "\n",
    "\n",
    "class Child1(Base):\n",
    "    def _f(self):\n",
    "        print 'hi'\n",
    "\n",
    "class Child2(Base):\n",
    "    def _g(self):\n",
    "        print 'hello'\n",
    "\n",
    "if __name__ == '__main__':\n",
    "    c1 = Child1()\n",
    "    c2 = Child2()\n",
    "    c1 = Child1.FXN[1](c1) \n",
    "    c2 = Child1.FXN[2](c2) "
   ]
  },
  {
   "cell_type": "code",
   "execution_count": null,
   "id": "04d16445-6788-4cf9-9151-40aa61ba9edf",
   "metadata": {},
   "outputs": [],
   "source": [
    "#19. Explain the role of interfaces and abstract classes in polymorphism, drawing comparisons between them.\n",
    "'''\n",
    "Difference between abstract class and interface:-\n",
    "\n",
    "Definition: An abstract class is a class that cannot be instantiated and can contain both abstract and \n",
    "non-abstract methods. An interface, on the other hand, is a contract that specifies a set of methods that a \n",
    "class must implement.\n",
    "\n",
    "Method implementation: In an abstract class, some methods can be implemented, while others are left abstract,\n",
    "meaning that they have no implementation and must be overridden by concrete subclasses. In contrast, all \n",
    "methods in an interface are by default abstract and must be implemented by any class that implements the \n",
    "interface.\n",
    "\n",
    "Inheritance: A class can inherit from only one abstract class, but it can implement multiple interfaces. \n",
    "This is because an abstract class represents a type of object, while an interface represents a set of \n",
    "behaviors.\n",
    "\n",
    "Access modifiers: Abstract classes can have access modifiers such as public, protected, and private for \n",
    "their methods and properties, while interfaces can only have public access.\n",
    "'''"
   ]
  },
  {
   "cell_type": "code",
   "execution_count": null,
   "id": "d4a139ec-9c60-4391-89e3-6cf656671fc5",
   "metadata": {},
   "outputs": [],
   "source": []
  },
  {
   "cell_type": "code",
   "execution_count": null,
   "id": "e160b1bd-3f84-40a3-bf79-3aab27f398d3",
   "metadata": {},
   "outputs": [],
   "source": [
    "#Abstraction:- \n",
    "#1. What is abstraction in Python, and how does it relate to object-oriented programming?\n",
    "'''\n",
    "Abstraction in python is defined as a process of handling complexity by hiding unnecessary information \n",
    "from the user. This is one of the core concepts of object-oriented programming (OOP) languages.\n",
    "'''"
   ]
  },
  {
   "cell_type": "code",
   "execution_count": 1,
   "id": "8da9e292-b50e-4fa8-848c-729750eac827",
   "metadata": {},
   "outputs": [
    {
     "data": {
      "text/plain": [
       "'\\nAdvantages of Abstraction:\\nIt reduces the complexity of viewing the things.\\nHelps to increase security of an application or program as only important details are provided to the user.\\nAvoids code duplication and increases reusability.\\nCan change internal implementation of class independently without affecting the user.\\n'"
      ]
     },
     "execution_count": 1,
     "metadata": {},
     "output_type": "execute_result"
    }
   ],
   "source": [
    "#2. Describe the benefits of abstraction in terms of code organization and complexity reduction.\n",
    "'''\n",
    "Advantages of Abstraction:\n",
    "It reduces the complexity of viewing the things.\n",
    "Helps to increase security of an application or program as only important details are provided to the user.\n",
    "Avoids code duplication and increases reusability.\n",
    "Can change internal implementation of class independently without affecting the user.\n",
    "'''"
   ]
  },
  {
   "cell_type": "code",
   "execution_count": 2,
   "id": "23b622d3-6978-4caf-be2c-d6eb8f0b77c2",
   "metadata": {},
   "outputs": [
    {
     "name": "stdout",
     "output_type": "stream",
     "text": [
      "3.0\n",
      "6\n",
      "28.26\n"
     ]
    }
   ],
   "source": [
    "#3. Create a Python class called `Shape` with an abstract method `calculate_area()`. Then, create child \n",
    "#   classes (e.g., `Circle`, `Rectangle`) that implement the `calculate_area()` method. Provide an example \n",
    "#   of using these classes.\n",
    "\n",
    "from abc import ABC, abstractmethod\n",
    "\n",
    "\n",
    "class shape(ABC):\n",
    "\n",
    "\t@abstractmethod\n",
    "\tdef area(self):\n",
    "\t\tpass\n",
    "\n",
    "class triangle(shape):\n",
    "    def area(self,l,b):\n",
    "        area1 = l * b * .5\n",
    "        print( area1)\n",
    "\n",
    "class rectangle(shape):\n",
    "    def area(self,l,b):\n",
    "        area1 = l * b \n",
    "        print( area1)\n",
    "\n",
    "class circle(shape):\n",
    "    def area(self,r):\n",
    "        area1 = 3.14 * r **2 \n",
    "        print ( area1)\n",
    "\n",
    "\n",
    "\n",
    "# Driver code\n",
    "T = triangle()\n",
    "T.area(2,3)\n",
    "\n",
    "R=rectangle()\n",
    "R.area(2,3)\n",
    "\n",
    "C = circle()\n",
    "C.area(3)"
   ]
  },
  {
   "cell_type": "code",
   "execution_count": 3,
   "id": "c40eaeef-bc27-4918-b60c-e472039abef0",
   "metadata": {},
   "outputs": [
    {
     "name": "stdout",
     "output_type": "stream",
     "text": [
      "method_from_base1 implementation\n",
      "method_from_base2 implementation\n"
     ]
    }
   ],
   "source": [
    "#4. Explain the concept of abstract classes in Python and how they are defined using the `abc` module. \n",
    "#   Provide an example.\n",
    "\n",
    "'''\n",
    "In Python, you can create an abstract class using the abc module. This module provides the infrastructure \n",
    "for defining abstract base classes (ABCs). In this example, we import the ABC and abstractmethod from the \n",
    "abc module. We then define an abstract class AbstractClassExample using the ABC as the base class.\n",
    "'''\n",
    "from abc import ABC, abstractmethod\n",
    "\n",
    "class Base1(ABC):\n",
    "    @abstractmethod\n",
    "    def method_from_base1(self):\n",
    "        pass\n",
    "\n",
    "class Base2(ABC):\n",
    "    @abstractmethod\n",
    "    def method_from_base2(self):\n",
    "        pass\n",
    "\n",
    "class Derived(Base1, Base2):\n",
    "    def method_from_base1(self):\n",
    "        return 'method_from_base1 implementation'\n",
    "    def method_from_base2(self):\n",
    "        return 'method_from_base2 implementation'\n",
    "\n",
    "# Now we can create an instance of Derived\n",
    "instance = Derived()\n",
    "print(instance.method_from_base1())\n",
    "print(instance.method_from_base2())\n"
   ]
  },
  {
   "cell_type": "code",
   "execution_count": null,
   "id": "c1f31b3a-42dd-4a74-bc91-d2d9f853c99a",
   "metadata": {},
   "outputs": [],
   "source": [
    "#5. How do abstract classes differ from regular classes in Python? Discuss their use cases.\n",
    "'''\n",
    "A class is called an Abstract class if it contains one or more abstract methods. An abstract method is a \n",
    "method that is declared, but contains no implementation. Abstract classes may not be instantiated, and its \n",
    "abstract methods must be implemented by its subclasses.\n",
    "'''"
   ]
  },
  {
   "cell_type": "code",
   "execution_count": 43,
   "id": "cec79be5-a9fb-484c-9df1-e4080a08d4ac",
   "metadata": {},
   "outputs": [],
   "source": [
    "#6. Create a Python class for a bank account and demonstrate abstraction by hiding the account balance and \n",
    "#   providing methods to deposit and withdraw funds.\n",
    "\n",
    "from abc import ABC , abstractmethod\n",
    "\n",
    "class bank_account(ABC):\n",
    "    @abstractmethod\n",
    "    def __init__(self,account_balance):\n",
    "        self.account_balance = 30000\n",
    "    \n",
    "    @abstractmethod\n",
    "    def withdraw(self):\n",
    "        pass\n",
    "                \n",
    "class withdraw_amt(bank_account):\n",
    "    \n",
    "    def __init__(self,account_balance=1):\n",
    "        super().__init__(account_balance)\n",
    "        \n",
    "    def withdraw(self):\n",
    "        amt = int(input(\"Please enter the amount :\"))\n",
    "        if self.account_balance > amt :\n",
    "            self.account_balance = self.account_balance - amt\n",
    "            print(\"Amount debitted successfully\")\n",
    "            print(\"Current Balance is : \" , self.account_balance)\n",
    "        else:\n",
    "            print(\"Low Balance : \" , self.account_balance)\n",
    "        \n",
    "    "
   ]
  },
  {
   "cell_type": "code",
   "execution_count": 45,
   "id": "dd769a68-087a-44cc-b3e9-fda5fdcce460",
   "metadata": {},
   "outputs": [],
   "source": [
    "obj_01 = withdraw_amt()"
   ]
  },
  {
   "cell_type": "code",
   "execution_count": 47,
   "id": "df2a2dcf-2412-47cf-b97b-24735f4c2073",
   "metadata": {},
   "outputs": [
    {
     "name": "stdin",
     "output_type": "stream",
     "text": [
      "Please enter the amount : 200\n"
     ]
    },
    {
     "name": "stdout",
     "output_type": "stream",
     "text": [
      "Amount debitted successfully\n",
      "Current Balance is :  29700\n"
     ]
    }
   ],
   "source": [
    "obj_01.withdraw()"
   ]
  },
  {
   "cell_type": "code",
   "execution_count": 48,
   "id": "c6f641bd-3d99-43b1-80bc-f1cb315adc44",
   "metadata": {},
   "outputs": [
    {
     "data": {
      "text/plain": [
       "29700"
      ]
     },
     "execution_count": 48,
     "metadata": {},
     "output_type": "execute_result"
    }
   ],
   "source": [
    "#7. Discuss the concept of interface classes in Python and their role in achieving abstraction.\n",
    "\n",
    "'''\n",
    "The interface in object-oriented languages like Python is a set of method signatures that the implementing \n",
    "class is expected to provide. Writing ordered code and achieving abstraction are both possible through \n",
    "interface implementation. Example: Python “object interfaces” are implemented in the module zope.\n",
    "'''"
   ]
  },
  {
   "cell_type": "code",
   "execution_count": 49,
   "id": "8e01ba16-1720-46bf-8e11-aeecdeee514c",
   "metadata": {},
   "outputs": [],
   "source": [
    "#8. Create a Python class hierarchy for animals and implement abstraction by defining common methods \n",
    "#   (e.g., `eat()`, `sleep()`) in an abstract base class.\n",
    "\n",
    "from abc import ABC , abstractmethod\n",
    "\n",
    "class animals(ABC):\n",
    "    \n",
    "    @abstractmethod\n",
    "    def eat(self):\n",
    "        pass\n",
    "    \n",
    "    @abstractmethod\n",
    "    def sleep(self):\n",
    "        pass\n",
    "    \n",
    "class cat(animals):\n",
    "    def eat(self):\n",
    "        print(\"This is the Cat-Eat class\")\n",
    "        \n",
    "    def sleep(self):\n",
    "        print(\"this is the cat-sleep time\")\n",
    "        \n",
    "class dog(animals):\n",
    "    def eat(self):\n",
    "        print(\"This is the Dog-Eat class\")\n",
    "        \n",
    "    def sleep(self):\n",
    "        print(\"this is the Dog-sleep time\")\n",
    "        \n",
    "        "
   ]
  },
  {
   "cell_type": "code",
   "execution_count": 52,
   "id": "a7cfe805-cfa9-4958-a2f0-5e4dd2439d63",
   "metadata": {},
   "outputs": [],
   "source": [
    "obj_cat = cat()\n",
    "obj_dog = dog()"
   ]
  },
  {
   "cell_type": "code",
   "execution_count": 53,
   "id": "be999019-8110-43e0-b547-4ff3f939add6",
   "metadata": {},
   "outputs": [
    {
     "name": "stdout",
     "output_type": "stream",
     "text": [
      "This is the Cat-Eat class\n",
      "this is the cat-sleep time\n"
     ]
    }
   ],
   "source": [
    "obj_cat.eat()\n",
    "obj_cat.sleep()"
   ]
  },
  {
   "cell_type": "code",
   "execution_count": 55,
   "id": "d801ce2c-c56f-4a63-b969-9bfddcd61fa5",
   "metadata": {},
   "outputs": [
    {
     "name": "stdout",
     "output_type": "stream",
     "text": [
      "This is the Dog-Eat class\n",
      "this is the Dog-sleep time\n"
     ]
    }
   ],
   "source": [
    "obj_dog.eat()\n",
    "obj_dog.sleep()"
   ]
  },
  {
   "cell_type": "code",
   "execution_count": null,
   "id": "763452a3-eca3-42a7-8973-3e63fac17e15",
   "metadata": {},
   "outputs": [],
   "source": [
    "#9. Explain the significance of encapsulation in achieving abstraction. Provide examples.\n",
    "'''\n",
    "The objects that help to perform abstraction are encapsulated. Whereas the objects that result in \n",
    "encapsulation need not be abstracted. Abstraction provides access to specific part of data. Encapsulation \n",
    "hides data and the user can not access same directly (data hiding).\n",
    "'''"
   ]
  },
  {
   "cell_type": "code",
   "execution_count": null,
   "id": "c7cf9035-31f2-4a51-a87d-caf2d1a402b1",
   "metadata": {},
   "outputs": [],
   "source": [
    "#10. What is the purpose of abstract methods, and how do they enforce abstraction in Python classes?\n",
    "\n",
    "'''\n",
    "The module we can use to create an abstract class in Python is abc(abstract base class) module. \n",
    "Abstract methods force the child classes to give the implementation of these methods in them and thus \n",
    "help us achieve abstraction as each subclass can give its own implementation.\n",
    "'''"
   ]
  },
  {
   "cell_type": "code",
   "execution_count": 60,
   "id": "8215b202-c5b3-47a6-a447-83fa5e539150",
   "metadata": {},
   "outputs": [],
   "source": [
    "#11. Create a Python class for a vehicle system and demonstrate abstraction by defining common methods \n",
    "#    (e.g., `start()`, `stop()`) in an abstract base class.\n",
    "\n",
    "from abc import ABC , abstractmethod\n",
    "\n",
    "class vehicle(ABC):\n",
    "    \n",
    "    @abstractmethod\n",
    "    def start(self):\n",
    "        pass\n",
    "    @abstractmethod\n",
    "    def stop(self):\n",
    "        pass\n",
    "    \n",
    "class car(vehicle):\n",
    "    \n",
    "    def start(self):\n",
    "        print(\"start the car \")\n",
    "     \n",
    "    def stop(self):\n",
    "        print(\"stop the car\")\n"
   ]
  },
  {
   "cell_type": "code",
   "execution_count": 61,
   "id": "9892a740-99c5-4436-b4ff-84ffa4ef293f",
   "metadata": {},
   "outputs": [],
   "source": [
    "car_obj = car()"
   ]
  },
  {
   "cell_type": "code",
   "execution_count": 62,
   "id": "532be8d4-acf3-4838-85d4-0bc0a3c540d6",
   "metadata": {},
   "outputs": [
    {
     "name": "stdout",
     "output_type": "stream",
     "text": [
      "start the car \n"
     ]
    }
   ],
   "source": [
    "car_obj.start()"
   ]
  },
  {
   "cell_type": "code",
   "execution_count": 63,
   "id": "d386ac8d-9ee3-4b0f-871b-84e13e248c60",
   "metadata": {},
   "outputs": [
    {
     "name": "stdout",
     "output_type": "stream",
     "text": [
      "stop the car\n"
     ]
    }
   ],
   "source": [
    "car_obj.stop()"
   ]
  },
  {
   "cell_type": "code",
   "execution_count": 64,
   "id": "37744ee9-a239-4d29-b7f6-6faacce717b5",
   "metadata": {},
   "outputs": [
    {
     "data": {
      "text/plain": [
       "'\\nAbstract Properties :\\n\\nProperties are Pythonic ways of using getters and setters. The abc module has a @abstractproperty decorator \\nto use abstract properties. Just like abstract methods, we need to define abstract properties in \\nimplementation classes. Otherwise, Python will raise the error.\\n'"
      ]
     },
     "execution_count": 64,
     "metadata": {},
     "output_type": "execute_result"
    }
   ],
   "source": [
    "#12. Describe the use of abstract properties in Python and how they can be employed in abstract classes.\n",
    "'''\n",
    "Abstract Properties :\n",
    "\n",
    "Properties are Pythonic ways of using getters and setters. The abc module has a @abstractproperty decorator \n",
    "to use abstract properties. Just like abstract methods, we need to define abstract properties in \n",
    "implementation classes. Otherwise, Python will raise the error.\n",
    "'''"
   ]
  },
  {
   "cell_type": "code",
   "execution_count": 65,
   "id": "3ac50f75-6301-4690-9bbd-395ebce3c11b",
   "metadata": {},
   "outputs": [],
   "source": [
    "#13. Create a Python class hierarchy for employees in a company (e.g., manager, developer, designer) and \n",
    "#    implement abstraction by defining a common `get_salary()` method.\n",
    "\n",
    "from abc import ABC , abstractmethod\n",
    "\n",
    "class employee(ABC):\n",
    "        \n",
    "    @abstractmethod\n",
    "    def get_salary(self):\n",
    "        pass\n",
    "    \n",
    "class manager(employee):\n",
    "    \n",
    "    def get_salary(self,salary):\n",
    "        print(\"your salary is: \" , salary)"
   ]
  },
  {
   "cell_type": "code",
   "execution_count": 66,
   "id": "c157a569-7f93-4bcb-9acb-ecf96c0a4b74",
   "metadata": {},
   "outputs": [],
   "source": [
    "obj_manager = manager()"
   ]
  },
  {
   "cell_type": "code",
   "execution_count": 68,
   "id": "b22aa400-04c2-4b18-9873-278a5ef4dffc",
   "metadata": {},
   "outputs": [
    {
     "name": "stdout",
     "output_type": "stream",
     "text": [
      "your salary is:  2000\n"
     ]
    }
   ],
   "source": [
    "obj_manager.get_salary(2000)"
   ]
  },
  {
   "cell_type": "code",
   "execution_count": 69,
   "id": "ae245339-231d-43d8-94b4-f958afc84de2",
   "metadata": {},
   "outputs": [
    {
     "data": {
      "text/plain": [
       "\"\\nAn abstract class can only be defined but cannot be instantiated because of the fact that they are not a \\nconcrete class. Python doesn't allow creating objects for abstract classes because there is no actual \\nimplementation to invoke rather they require subclasses for implementation.\\n\""
      ]
     },
     "execution_count": 69,
     "metadata": {},
     "output_type": "execute_result"
    }
   ],
   "source": [
    "#14. Discuss the differences between abstract classes and concrete classes in Python, including their \n",
    "#    instantiation.\n",
    "\n",
    "'''\n",
    "An abstract class can only be defined but cannot be instantiated because of the fact that they are not a \n",
    "concrete class. Python doesn't allow creating objects for abstract classes because there is no actual \n",
    "implementation to invoke rather they require subclasses for implementation.\n",
    "'''\n"
   ]
  },
  {
   "cell_type": "code",
   "execution_count": null,
   "id": "4a17364d-6cca-4233-9ca9-50b11f1641bc",
   "metadata": {},
   "outputs": [],
   "source": [
    "#15. Explain the concept of abstract data types (ADTs) and their role in achieving abstraction in Python.\n",
    "'''\n",
    "Abstract Data type (ADT) is a type (or class) for objects whose behavior is defined by a set of values and\n",
    "a set of operations. The definition of ADT only mentions what operations are to be performed but not how \n",
    "these operations will be implemented\n",
    "'''"
   ]
  },
  {
   "cell_type": "code",
   "execution_count": null,
   "id": "708373bb-7528-46c8-bf90-17762fba7d71",
   "metadata": {},
   "outputs": [],
   "source": [
    "#17. Discuss the benefits of using abstraction in large-scale software development projects.\n",
    "'''\n",
    "In object-oriented programming, abstraction is one of three central principles (along with encapsulation \n",
    "and inheritance). Through the process of abstraction, a programmer hides all but the relevant data about \n",
    "an object in order to reduce complexity and increase efficiency.\n",
    "'''"
   ]
  },
  {
   "cell_type": "code",
   "execution_count": null,
   "id": "5836ee77-894d-427e-8c19-10df3aa7bfa1",
   "metadata": {},
   "outputs": [],
   "source": [
    "#Composition -\n",
    "#1. Explain the concept of composition in Python and how it is used to build complex objects from simpler \n",
    "#   ones\n",
    "\n",
    "'''\n",
    "Composition is a concept that models a has a relationship. It enables creating complex types by combining \n",
    "objects of other types. This means that a class Composite can contain an object of another class Component \n",
    ". This relationship means that a Composite has a Component .\n",
    "'''"
   ]
  },
  {
   "cell_type": "code",
   "execution_count": 70,
   "id": "d9b6a370-f8d1-47c7-bd7a-9da009a6f566",
   "metadata": {},
   "outputs": [
    {
     "data": {
      "text/plain": [
       "'\\nIn inheritance, the child class is dependent upon parent class. Whereas in composition, both child class \\nand parent class are independent.\\n'"
      ]
     },
     "execution_count": 70,
     "metadata": {},
     "output_type": "execute_result"
    }
   ],
   "source": [
    "#2. Describe the difference between composition and inheritance in object-oriented programming.\n",
    "'''\n",
    "In inheritance, the child class is dependent upon parent class. Whereas in composition, both child class \n",
    "and parent class are independent.\n",
    "'''"
   ]
  },
  {
   "cell_type": "code",
   "execution_count": 74,
   "id": "bb21191f-a8cf-4a07-b689-57be6f8988fe",
   "metadata": {},
   "outputs": [],
   "source": [
    "#3. Create a Python class called `Author` with attributes for name and birthdate. Then, create a `Book` \n",
    "#   class that contains an instance of `Author` as a composition. Provide an example of creating a `Book` \n",
    "#   object.\n",
    "\n",
    "class author:\n",
    "    \n",
    "    def __init__(self,name,birthdate):\n",
    "        self.name = name\n",
    "        self.birthdate = birthdate\n",
    "        \n",
    "    def book(self):\n",
    "        print(\"this is author class\")\n",
    "        \n",
    "class book:   \n",
    "    \n",
    "    def __init__(self):\n",
    "        self.obj1 = author('vikas',2002)\n",
    "    \n",
    "    def books(self):\n",
    "        \n",
    "        print(self.obj1.book())\n",
    "        \n",
    "        "
   ]
  },
  {
   "cell_type": "code",
   "execution_count": 75,
   "id": "a5bf43ea-7666-4493-b784-444248aa0033",
   "metadata": {},
   "outputs": [],
   "source": [
    "obj2 = book()\n",
    "\n"
   ]
  },
  {
   "cell_type": "code",
   "execution_count": 79,
   "id": "f307acad-83b4-46ff-8de8-25f615b4325e",
   "metadata": {},
   "outputs": [
    {
     "data": {
      "text/plain": [
       "2002"
      ]
     },
     "execution_count": 79,
     "metadata": {},
     "output_type": "execute_result"
    }
   ],
   "source": [
    "obj2.obj1.birthdate"
   ]
  },
  {
   "cell_type": "code",
   "execution_count": null,
   "id": "340969c6-86f0-4a36-a20f-035739a7b6e5",
   "metadata": {},
   "outputs": [],
   "source": [
    "#4. Discuss the benefits of using composition over inheritance in Python, especially in terms of code \n",
    "#   flexibility and reusability.\n",
    "\n",
    "'''\n",
    "In summary, composition offers several advantages over inheritance, including greater flexibility, \n",
    "reduced complexity, and improved maintainability. It can also avoid problems associated with multiple \n",
    "inheritance, such as the \"diamond problem.\" While inheritance still has its place in object-oriented \n",
    "programming.\n",
    "'''"
   ]
  },
  {
   "cell_type": "code",
   "execution_count": 80,
   "id": "f2034c13-b1ee-42e1-9624-1b665623779c",
   "metadata": {},
   "outputs": [
    {
     "name": "stdout",
     "output_type": "stream",
     "text": [
      "Name of Employee :  Ronil\n",
      "Age of Employee :  20\n",
      "Address of Employee :  Indore\n",
      "Salary of Employee :  25000\n"
     ]
    }
   ],
   "source": [
    "#5. How can you implement composition in Python classes? Provide examples of using composition to create \n",
    "#   complex objects.\n",
    "\n",
    "'''\n",
    "Implementation of Composition in Python\n",
    "\n",
    "By using the class names or by creating an object we can access the member of one class inside another \n",
    "class. In these above example class Car has-A Engine class reference. Here inside class Car also we can \n",
    "create different variables and methods.\n",
    "'''\n",
    "\n",
    "class Employee:\n",
    "\n",
    "\t# constructor for initialization\n",
    "\tdef __init__(self, name, age):\n",
    "\t\tself.name = name\n",
    "\t\tself.age = age\n",
    "\n",
    "\t# instance method\n",
    "\tdef emp_data(self):\n",
    "\t\tprint('Name of Employee : ', self.name)\n",
    "\t\tprint('Age of Employee : ', self.age)\n",
    "\n",
    "\n",
    "class Data:\n",
    "\tdef __init__(self, address, salary, emp_obj):\n",
    "\t\tself.address = address\n",
    "\t\tself.salary = salary\n",
    "\n",
    "\t\t# creating object of Employee class\n",
    "\t\tself.emp_obj = emp_obj\n",
    "\n",
    "\t# instance method\n",
    "\tdef display(self):\n",
    "\n",
    "\t\t# calling Employee class emp_data()\n",
    "\t\t# method\n",
    "\t\tself.emp_obj.emp_data()\n",
    "\t\tprint('Address of Employee : ', self.address)\n",
    "\t\tprint('Salary of Employee : ', self.salary)\n",
    "\n",
    "# creating Employee class object\n",
    "emp = Employee('Ronil', 20)\n",
    "\n",
    "# passing obj. of Emp. class during creation\n",
    "# of Data class object\n",
    "data = Data('Indore', 25000, emp)\n",
    "\n",
    "# call Data class instance method\n",
    "data.display()\n"
   ]
  },
  {
   "cell_type": "code",
   "execution_count": 88,
   "id": "18ece85b-9000-4a98-a888-e4b8f47aa8c4",
   "metadata": {},
   "outputs": [],
   "source": [
    "#6. Create a Python class hierarchy for a music player system, using composition to represent playlists and \n",
    "#   songs.\n",
    "\n",
    "class music_player:\n",
    "    \n",
    "    def __init__(self,playlist,song):\n",
    "        self.playlist = playlist\n",
    "        self.song   = song\n",
    "    \n",
    "    def play_list(self):\n",
    "        print(\"playlist is : \" , self.playlist)\n",
    "        print(\"Song is : \" , self.song)\n",
    "        \n",
    "class display_song:\n",
    "    \n",
    "    def __init__(self,song_obj):\n",
    "        \n",
    "        self.song_obj = song_obj\n",
    "        \n",
    "    def display_playlist(self):\n",
    "        print(self.song_obj.play_list())\n",
    "        \n",
    "        \n",
    "        "
   ]
  },
  {
   "cell_type": "code",
   "execution_count": 89,
   "id": "27552abe-2bee-40bd-9033-8d7443d39bb1",
   "metadata": {},
   "outputs": [],
   "source": [
    "c1 = music_player('old songs' , 'song1')"
   ]
  },
  {
   "cell_type": "code",
   "execution_count": 90,
   "id": "4493d792-a647-4796-bed8-b7b688a2a339",
   "metadata": {},
   "outputs": [],
   "source": [
    "c2 = display_song(c1)"
   ]
  },
  {
   "cell_type": "code",
   "execution_count": 91,
   "id": "cc5e6a08-8d37-4950-84eb-bfade6c31de4",
   "metadata": {},
   "outputs": [
    {
     "name": "stdout",
     "output_type": "stream",
     "text": [
      "playlist is :  old songs\n",
      "Song is :  song1\n",
      "None\n"
     ]
    }
   ],
   "source": [
    "c2.display_playlist()"
   ]
  },
  {
   "cell_type": "code",
   "execution_count": 92,
   "id": "5a77db94-49e0-4ba3-ab5f-bd28cd6f1a63",
   "metadata": {},
   "outputs": [
    {
     "data": {
      "text/plain": [
       "'\\nComposition is a concept that models a has a relationship. It enables creating complex types by combining \\nobjects of other types. This means that a class Composite can contain an object of another class Component \\n. This relationship means that a Composite has a Component .\\n'"
      ]
     },
     "execution_count": 92,
     "metadata": {},
     "output_type": "execute_result"
    }
   ],
   "source": [
    "#7. Explain the concept of \"has-a\" relationships in composition and how it helps design software systems.\n",
    "'''\n",
    "Composition is a concept that models a has a relationship. It enables creating complex types by combining \n",
    "objects of other types. This means that a class Composite can contain an object of another class Component \n",
    ". This relationship means that a Composite has a Component .\n",
    "'''"
   ]
  },
  {
   "cell_type": "code",
   "execution_count": null,
   "id": "bd46aaea-f7e8-4942-b834-b6b00e9811f2",
   "metadata": {},
   "outputs": [],
   "source": [
    "#9. Describe the concept of \"delegation\" in composition and how it simplifies the design of complex systems.\n",
    "'''\n",
    "Delegation is a design pattern in which an object, called the delegate, is responsible for performing \n",
    "certain tasks on behalf of another object, called the delegator. This can be done by the delegator \n",
    "forwarding method calls and attribute access to the delegate.\n",
    "\n",
    "'''"
   ]
  },
  {
   "cell_type": "code",
   "execution_count": null,
   "id": "cc4abbc6-8756-4aa2-aa07-f80cc82344eb",
   "metadata": {},
   "outputs": [],
   "source": [
    "#11. How can you encapsulate and hide the details of composed objects in Python classes to maintain \n",
    "#    abstraction?\n",
    "\n",
    "'''\n",
    "Encapsulation: In Python, you can use encapsulation to hide data and behavior within objects, so that they \n",
    "can only be accessed through the object's public interface. This is achieved using private and protected \n",
    "access modifiers.\n",
    "'''\n"
   ]
  },
  {
   "cell_type": "code",
   "execution_count": null,
   "id": "b75e3eb9-f882-44c9-8ac6-1df1a528f1e6",
   "metadata": {},
   "outputs": [],
   "source": [
    "#13. Discuss the challenges and drawbacks of composition, such as increased complexity and potential for \n",
    "#    tight coupling between objects\n",
    "\n",
    "'''\n",
    "Disadvantages of tight coupling\n",
    "\n",
    "Tightly coupled systems can be challenging to scale because adding new components or increasing the size of \n",
    "existing components may require significant changes to other parts of the system.\n",
    "'''"
   ]
  },
  {
   "cell_type": "code",
   "execution_count": null,
   "id": "8f8ee744-b161-4818-9e5f-ba1f92880515",
   "metadata": {},
   "outputs": [],
   "source": [
    "#17. Describe the concept of \"aggregation\" in composition and how it differs from simple composition.\n",
    "\n",
    "'''\n",
    "Aggregation implies a relationship where the child can exist independently of the parent. For example, \n",
    "Bank and Employee, delete the Bank and the Employee still exist. whereas Composition implies a relationship \n",
    "where the child cannot exist independent of the parent.\n",
    "\n",
    "'''"
   ]
  },
  {
   "cell_type": "code",
   "execution_count": null,
   "id": "f1e2f69d-52b5-406d-8d90-409964519773",
   "metadata": {},
   "outputs": [],
   "source": [
    "#19. How can you achieve flexibility in composed objects by allowing them to be replaced or modified \n",
    "#    dynamically at runtime?\n",
    "\n",
    "'''\n",
    "To get the higher design flexibility, the design principle says that composition should be favored over \n",
    "inheritance. Inheritance should only be used when subclass 'is a' superclass. Don't use inheritance to get \n",
    "code reuse. If there is no 'is a' relationship, then use composition for code reuse.\n",
    "'''"
   ]
  }
 ],
 "metadata": {
  "kernelspec": {
   "display_name": "Python 3 (ipykernel)",
   "language": "python",
   "name": "python3"
  },
  "language_info": {
   "codemirror_mode": {
    "name": "ipython",
    "version": 3
   },
   "file_extension": ".py",
   "mimetype": "text/x-python",
   "name": "python",
   "nbconvert_exporter": "python",
   "pygments_lexer": "ipython3",
   "version": "3.10.8"
  }
 },
 "nbformat": 4,
 "nbformat_minor": 5
}
