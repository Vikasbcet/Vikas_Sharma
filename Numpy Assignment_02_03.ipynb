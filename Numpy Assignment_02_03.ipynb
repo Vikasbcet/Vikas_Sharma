{
 "cells": [
  {
   "cell_type": "code",
   "execution_count": 1,
   "id": "92cefb29-518a-4cc9-9aec-206aa7b56e75",
   "metadata": {},
   "outputs": [
    {
     "data": {
      "text/plain": [
       "\"\\nA library is a collection of code that makes everyday tasks more efficient. \\nUsing Seaborn, for example, you can generate visualisations with just one line of code.\\nTo create a chart from an object, you'd have to write a lot of code without a library like this.\\n\""
      ]
     },
     "execution_count": 1,
     "metadata": {},
     "output_type": "execute_result"
    }
   ],
   "source": [
    "#1. What is a Python library? Why ^o we use Python libraries?\n",
    "'''\n",
    "A library is a collection of code that makes everyday tasks more efficient. \n",
    "Using Seaborn, for example, you can generate visualisations with just one line of code.\n",
    "To create a chart from an object, you'd have to write a lot of code without a library like this.\n",
    "'''"
   ]
  },
  {
   "cell_type": "code",
   "execution_count": null,
   "id": "3569e719-d5a1-452c-875e-2a8048f8a7fc",
   "metadata": {},
   "outputs": [],
   "source": [
    "#2 What is the ^ifference between Numpy array an List?\n",
    "'''\n",
    "The main difference is that NumPy arrays are much faster and have strict requirements on the\n",
    "homogeneity of the objects. For example, a NumPy array of strings can only contain strings and \n",
    "no other data types, but a Python list can contain a mixture of strings, numbers, booleans and \n",
    "other objects.\n",
    "'''"
   ]
  },
  {
   "cell_type": "code",
   "execution_count": null,
   "id": "aa57cf49-caa2-4ac0-ae96-b6e04865245b",
   "metadata": {},
   "outputs": [],
   "source": [
    "#3 Find the shape, size and dimension of the following array?\n",
    "'''\n",
    "[[1, 2, 3, 4]\n",
    "[5, 6, 7, 8],\n",
    "[9, 10, 11, 12]]\n",
    "'''\n",
    "'''\n",
    "shape = 3,4\n",
    "size = 4*3 = 12\n",
    "dimensions =  2 - Dimensional.\n",
    "'''\n"
   ]
  },
  {
   "cell_type": "code",
   "execution_count": 13,
   "id": "af2a19d4-415f-477a-a5a0-4cf1c0767e44",
   "metadata": {},
   "outputs": [
    {
     "data": {
      "text/plain": [
       "array([1, 2, 3, 4])"
      ]
     },
     "execution_count": 13,
     "metadata": {},
     "output_type": "execute_result"
    }
   ],
   "source": [
    "#4. Write python code to access the first row of the following array?\n",
    "'''\n",
    "[[1, 2, 3, 4]\n",
    "[5, 6, 7, 8],\n",
    "[9, 10, 11, 12]]\n",
    "'''\n",
    "\n",
    "import numpy as np\n",
    "\n",
    "arr1 =np.array([[1, 2, 3, 4],\n",
    "        [5, 6, 7, 8],\n",
    "        [9, 10, 11, 12]])\n",
    "\n",
    "# to read a first row of the array.\n",
    "\n",
    "arr1[0]"
   ]
  },
  {
   "cell_type": "code",
   "execution_count": 18,
   "id": "8835cb85-4d26-4f47-96e2-2fc557867833",
   "metadata": {},
   "outputs": [
    {
     "data": {
      "text/plain": [
       "12"
      ]
     },
     "execution_count": 18,
     "metadata": {},
     "output_type": "execute_result"
    }
   ],
   "source": [
    "#5. How do you access the element at the third row and fourth column from the given numpy array?\n",
    "'''\n",
    "[[1, 2, 3, 4]\n",
    "[5, 6, 7, 8],\n",
    "[9, 10, 11, 12]]\n",
    "'''\n",
    "\n",
    "arr2 = np.array([[1, 2, 3, 4],\n",
    "                 [5, 6, 7, 8],\n",
    "                 [9, 10, 11, 12]])\n",
    "\n",
    "# to read 3rd row and fourth column.\n",
    "\n",
    "arr2[2, 3]"
   ]
  },
  {
   "cell_type": "code",
   "execution_count": 32,
   "id": "2d974324-fb27-42f8-8981-2e4b57595aaf",
   "metadata": {},
   "outputs": [
    {
     "data": {
      "text/plain": [
       "array([ 1,  3,  5,  7,  9, 11])"
      ]
     },
     "execution_count": 32,
     "metadata": {},
     "output_type": "execute_result"
    }
   ],
   "source": [
    "#6. Write code to extract all odd-insexed elements from the given numpy array?\n",
    "'''\n",
    "[[1, 2, 3, 4]\n",
    "[5, 6, 7, 8],\n",
    "[9, 10, 11, 12]]\n",
    "'''\n",
    "arr3 = np.array([[1, 2, 3, 4],\n",
    "                 [5, 6, 7, 8],\n",
    "                 [9, 10, 11, 12]])\n",
    "\n",
    "# extract all odd-insexed elements.\n",
    "arr4 = arr3[arr3%2==1] \n",
    "arr4"
   ]
  },
  {
   "cell_type": "code",
   "execution_count": 39,
   "id": "59d0cf45-7fed-4807-a8ad-766da90cd477",
   "metadata": {},
   "outputs": [
    {
     "data": {
      "text/plain": [
       "array([[0, 0, 1],\n",
       "       [0, 1, 0],\n",
       "       [0, 0, 1]])"
      ]
     },
     "execution_count": 39,
     "metadata": {},
     "output_type": "execute_result"
    }
   ],
   "source": [
    "#7. How can you generate a random 3x3 matrix with values between 0 and 1?\n",
    "\n",
    "arr5 = np.random.randint(0,2,(3,3))\n",
    "arr5"
   ]
  },
  {
   "cell_type": "code",
   "execution_count": 52,
   "id": "8fff8bc3-5b67-4be6-9cc4-b85404ca9279",
   "metadata": {},
   "outputs": [
    {
     "name": "stdout",
     "output_type": "stream",
     "text": [
      "[ 0.26263838  0.70893344  0.08535132 -0.53840825  0.17778977 -0.55561211\n",
      "  0.92233828  2.32952739 -0.78880072 -1.2912137 ]\n",
      "[0.35542841 0.02232084 0.21766421 0.13925286 0.54502517 0.04695605\n",
      " 0.29384248 0.2037913  0.15333145 0.79648159]\n"
     ]
    }
   ],
   "source": [
    "#8. Describe the difference between np.random.rand and np.random.randn?\n",
    "'''\n",
    "randn :-  generates samples from the normal distribution, \n",
    "while numpy.random.rand from a uniform distribution (in the range [0,1))\n",
    "'''\n",
    "arr7 = np.random.randn(10)\n",
    "print(arr7)\n",
    "\n",
    "arr6 = np.random.rand(10)\n",
    "print(arr6)\n",
    "\n"
   ]
  },
  {
   "cell_type": "code",
   "execution_count": 65,
   "id": "6b34bfa3-1fbc-4f58-bbec-fa4d915cd76f",
   "metadata": {},
   "outputs": [
    {
     "data": {
      "text/plain": [
       "array([[ 1,  2,  3,  4,  5,  6],\n",
       "       [ 7,  8,  9, 10, 11, 12]])"
      ]
     },
     "execution_count": 65,
     "metadata": {},
     "output_type": "execute_result"
    }
   ],
   "source": [
    "#9. Write code to increase the dimension of the following array?\n",
    "'''\n",
    "[[1, 2, 3, 4]\n",
    "[5, 6, 7, 8],\n",
    "[9, 10, 11, 12]]\n",
    "'''\n",
    "\n",
    "arr8= np.array([[1, 2, 3, 4],\n",
    "                [5, 6, 7, 8],\n",
    "                [9, 10, 11, 12]])\n",
    "arr8.size\n",
    "# 12\n",
    "\n",
    "arr8.reshape(2,6)\n",
    "\n"
   ]
  },
  {
   "cell_type": "code",
   "execution_count": 76,
   "id": "b51ea329-d0fa-45f6-bbd6-3b2ad4490a74",
   "metadata": {},
   "outputs": [
    {
     "data": {
      "text/plain": [
       "array([[ 1,  5,  9],\n",
       "       [ 2,  6, 10],\n",
       "       [ 3,  7, 11],\n",
       "       [ 4,  8, 12]])"
      ]
     },
     "execution_count": 76,
     "metadata": {},
     "output_type": "execute_result"
    }
   ],
   "source": [
    "#10. How to transpose the following array in NumPy?\n",
    "'''\n",
    "[[1, 2, 3, 4]\n",
    "[5, 6, 7, 8],\n",
    "[9, 10, 11, 12]]\n",
    "'''\n",
    "arr9 = np.array([[1, 2, 3, 4],\n",
    "                 [5, 6, 7, 8],\n",
    "                 [9, 10, 11, 12]])\n",
    "\n",
    "arr9.T"
   ]
  },
  {
   "cell_type": "markdown",
   "id": "db9e2ed8-77c8-4592-b90e-ccee52f28856",
   "metadata": {},
   "source": [
    "# "
   ]
  },
  {
   "cell_type": "code",
   "execution_count": 100,
   "id": "ce00df26-867a-48d8-92b1-e883c05945d7",
   "metadata": {},
   "outputs": [
    {
     "ename": "ValueError",
     "evalue": "matmul: Input operand 1 has a mismatch in its core dimension 0, with gufunc signature (n?,k),(k,m?)->(n?,m?) (size 3 is different from 4)",
     "output_type": "error",
     "traceback": [
      "\u001b[0;31m---------------------------------------------------------------------------\u001b[0m",
      "\u001b[0;31mValueError\u001b[0m                                Traceback (most recent call last)",
      "Cell \u001b[0;32mIn[100], line 51\u001b[0m\n\u001b[1;32m     44\u001b[0m \u001b[38;5;124;03m'''\u001b[39;00m\n\u001b[1;32m     45\u001b[0m \u001b[38;5;124;03marray([[1., 1., 1., 1.],\u001b[39;00m\n\u001b[1;32m     46\u001b[0m \u001b[38;5;124;03m       [1., 1., 1., 1.],\u001b[39;00m\n\u001b[1;32m     47\u001b[0m \u001b[38;5;124;03m       [1., 1., 1., 1.]])\u001b[39;00m\n\u001b[1;32m     48\u001b[0m \u001b[38;5;124;03m'''\u001b[39;00m\n\u001b[1;32m     49\u001b[0m \u001b[38;5;66;03m#2  Matix multiplication.\u001b[39;00m\n\u001b[0;32m---> 51\u001b[0m \u001b[43ma2\u001b[49m\u001b[43m \u001b[49m\u001b[38;5;241;43m@\u001b[39;49m\u001b[43m \u001b[49m\u001b[43mb2\u001b[49m\n",
      "\u001b[0;31mValueError\u001b[0m: matmul: Input operand 1 has a mismatch in its core dimension 0, with gufunc signature (n?,k),(k,m?)->(n?,m?) (size 3 is different from 4)"
     ]
    }
   ],
   "source": [
    "#11. Consider the following matrix:\n",
    "'''\n",
    "Matrix A2 [[1, 2, 3, 4] [5, 6, 7, 8],[9, 10, 11, 12]]\n",
    "Matrix B2 [[1, 2, 3, 4] [5, 6, 7, 8],[9, 10, 11, 12]]\n",
    "\n",
    "Perform the following operation using Python1\n",
    "1. Index whiLe multiplication\n",
    "2. Matix multiplication\n",
    "3. Add both the maticK\n",
    "4. Subtact matix B from A \n",
    "5.  Diide Matix B by A\n",
    "'''\n",
    "a2 = np.array([[1, 2, 3, 4], [5, 6, 7, 8],[9, 10, 11, 12]])\n",
    "b2 = np.array([[1, 2, 3, 4] ,[5, 6, 7, 8],[9, 10, 11, 12]])\n",
    "\n",
    "# 1. Index whiLe multiplication\n",
    "a2*b2\n",
    "\n",
    "'''\n",
    "array([[  1,   4,   9,  16],\n",
    "       [ 25,  36,  49,  64],\n",
    "       [ 81, 100, 121, 144]])\n",
    "'''  \n",
    "\n",
    "#3. Add both the maticx.\n",
    "a2 + b2\n",
    "'''\n",
    "array([[ 2,  4,  6,  8],\n",
    "       [10, 12, 14, 16],\n",
    "       [18, 20, 22, 24]])\n",
    "'''\n",
    "# 4. Subtact matix B from A \n",
    "\n",
    "a2 - b2\n",
    "'''\n",
    "array([[0, 0, 0, 0],\n",
    "       [0, 0, 0, 0],\n",
    "       [0, 0, 0, 0]])\n",
    "'''\n",
    "\n",
    "#5.  Diide Matix B by A\n",
    "\n",
    "a2/b2\n",
    "'''\n",
    "array([[1., 1., 1., 1.],\n",
    "       [1., 1., 1., 1.],\n",
    "       [1., 1., 1., 1.]])\n",
    "'''\n",
    "#2  Matix multiplication.\n",
    "\n",
    "a2 @ b2\n",
    "'''\n",
    "Getting errors because maatrix is not in M * M Format.\n",
    "ValueError: matmul: Input operand 1 has a mismatch in its core dimension 0, with gufunc signature \n",
    "(n?,k),(k,m?)->(n?,m?) (size 3 is different from 4)\n",
    "'''\n"
   ]
  },
  {
   "cell_type": "code",
   "execution_count": 108,
   "id": "7b504875-57be-4377-8d65-fd80600a5b66",
   "metadata": {},
   "outputs": [
    {
     "data": {
      "text/plain": [
       "array([[ 72057594037927936, 144115188075855872, 216172782113783808,\n",
       "        288230376151711744],\n",
       "       [360287970189639680, 432345564227567616, 504403158265495552,\n",
       "        576460752303423488],\n",
       "       [648518346341351424, 720575940379279360, 792633534417207296,\n",
       "        864691128455135232]])"
      ]
     },
     "execution_count": 108,
     "metadata": {},
     "output_type": "execute_result"
    }
   ],
   "source": [
    "#12. Which function in Numpy can be used to swap the byte order of an array?\n",
    "'''\n",
    "newbyteorder() Change the byte-ordering of the underlying data, leaving the dtype interpretation as it was.\n",
    "This is what arr.byteswap() does.\n",
    "'''\n",
    "arr9.view(arr9.dtype.newbyteorder())\n",
    "'''\n",
    "array([[ 72057594037927936, 144115188075855872, 216172782113783808,\n",
    "        288230376151711744],\n",
    "       [360287970189639680, 432345564227567616, 504403158265495552,\n",
    "        576460752303423488],\n",
    "       [648518346341351424, 720575940379279360, 792633534417207296,\n",
    "        864691128455135232]])\n",
    "'''\n",
    "arr9.byteswap()\n",
    "'''\n",
    "array([[ 72057594037927936, 144115188075855872, 216172782113783808,\n",
    "        288230376151711744],\n",
    "       [360287970189639680, 432345564227567616, 504403158265495552,\n",
    "        576460752303423488],\n",
    "       [648518346341351424, 720575940379279360, 792633534417207296,\n",
    "        864691128455135232]])\n",
    "'''        "
   ]
  },
  {
   "cell_type": "code",
   "execution_count": null,
   "id": "85128ade-6940-4da5-848d-63e7ccfeeb30",
   "metadata": {},
   "outputs": [],
   "source": [
    "#13. What is the significance of the np.linalg.inv function?\n",
    "'''\n",
    "numpy.linalg.inv() function to calculate the inverse of a matrix. The inverse of a matrix is such that \n",
    "if it is multiplied by the original matrix, it results in identity matrix.\n",
    "'''"
   ]
  },
  {
   "cell_type": "code",
   "execution_count": null,
   "id": "3e2a4ee1-c99b-4d60-96bd-34a3172982d8",
   "metadata": {},
   "outputs": [],
   "source": [
    "#14. What does the np.reshape function do, and how is it used?\n",
    "'''\n",
    "np.reshape function is used to reshape the matrix with in the row and dcolumn. Only thing needs here is \n",
    "reshaping of martrix should be always equal to (m * n).\n",
    "'''\n"
   ]
  },
  {
   "cell_type": "code",
   "execution_count": null,
   "id": "58a76bb1-f746-4a58-a18b-6d6705b910f8",
   "metadata": {},
   "outputs": [],
   "source": [
    "#15. What is broadcasting in Numpy?\n",
    "'''\n",
    "describes how NumPy treats arrays with different shapes during arithmetic operations. \n",
    "Subject to certain constraints, the smaller array is “broadcast” across the larger array so that \n",
    "they have compatible shapes.\n",
    "'''\n"
   ]
  },
  {
   "cell_type": "code",
   "execution_count": null,
   "id": "d3794b74-a6e8-4182-a0bd-a589e3f0802c",
   "metadata": {},
   "outputs": [],
   "source": []
  }
 ],
 "metadata": {
  "kernelspec": {
   "display_name": "Python 3 (ipykernel)",
   "language": "python",
   "name": "python3"
  },
  "language_info": {
   "codemirror_mode": {
    "name": "ipython",
    "version": 3
   },
   "file_extension": ".py",
   "mimetype": "text/x-python",
   "name": "python",
   "nbconvert_exporter": "python",
   "pygments_lexer": "ipython3",
   "version": "3.10.8"
  }
 },
 "nbformat": 4,
 "nbformat_minor": 5
}
